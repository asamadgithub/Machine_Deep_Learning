{
 "cells": [
  {
   "cell_type": "markdown",
   "metadata": {},
   "source": [
    "<a id=\"start\"></a>\n",
    "\n",
    "<span style=\"padding: 0 05px\"></span> [ <font color = \"black\" size =\"3.5\" > **Part 3, Section 16** <span style = \"padding:0 2px\"></span> **Naive Bayes Classification (classification)**](#sec_16) </font>   <br/>\n",
    "<span style=\"padding: 0 40px\"></span> [ <font color = \"blue\" size =\"2\" > 1.1 <span style = \"padding:0 12px\"></span> import mostly used libraries](#ref_1.1) </font>   <br/>\n",
    "<span style=\"padding: 0 40px\"></span> [ <font color = \"blue\" size =\"2\" > 1.2 <span style = \"padding:0 12px\"></span> import data frame and have a look on missing values](#ref_1.2) </font>   <br/>\n",
    "<span style=\"padding: 0 40px\"></span> [ <font color = \"blue\" size =\"2\" > 1.3 <span style = \"padding:0 12px\"></span> Splitting test and training sets](#ref_1.3) </font>   <br/>\n",
    "<span style=\"padding: 0 40px\"></span> [ <font color = \"blue\" size =\"2\" > 1.4 <span style = \"padding:0 12px\"></span> Splitting into test and training sets](#ref_1.4) </font>   <br/>\n",
    "<span style=\"padding: 0 40px\"></span> [ <font color = \"blue\" size =\"2\" > 1.5 <span style = \"padding:0 12px\"></span> Naive Bayes classifier (Probability based classifier)](#ref_1.5) </font>   <br/>\n",
    "<span style=\"padding: 0 40px\"></span> [ <font color = \"blue\" size =\"2\" > 1.6 <span style = \"padding:0 12px\"></span> Performance of Logistic Regression](#ref_1.6) </font>   <br/>\n",
    "<span style=\"padding: 0 40px\"></span> [ <font color = \"blue\" size =\"2\" > 1.7 <span style = \"padding:0 12px\"></span> Visulation with <code>matplotlib</code](#ref_1.7) </font>   <br/>"
   ]
  },
  {
   "cell_type": "markdown",
   "metadata": {},
   "source": [
    "### Sec 16. Naive Bayes Classification (classification) <a id=\"sec_16\"></a>"
   ]
  },
  {
   "cell_type": "markdown",
   "metadata": {},
   "source": [
    "<font color = \"Brown\" size =\"3\" >  \n",
    "**Naive Bayes (classification)**   \n",
    "</font>\n",
    "Some nice videos to understand the \"Bayes\" theorem:\n",
    "<font color = \"Brown\" size =\"3\" >  \n",
    "    https://www.youtube.com/watch?v=ADaxql883-M  (Conditional Probability) <br>\n",
    "0):    https://www.youtube.com/watch?v=Fv_LGQKgWi0 <br>\n",
    "1): https://www.youtube.com/watch?v=ibINrxJLvlM&feature=share <br>\n",
    "2): https://www.youtube.com/watch?v=H02B3aMNKzE&feature=share <br>\n",
    "3): https://www.youtube.com/watch?v=SrEmzdOT65s&feature=share <br>\n",
    "</font>\n",
    "\n",
    "<font color = \"Brown\" size =\"6\" >  \n",
    "**How it works**  </font>\n",
    "<font color = \"Brown\" size =\"5\" >  \n",
    "conditional prob of classification = **(  ( likeligood )* (prior probability) )/ (marginal likelihood)** <br>\n",
    "step-1): First of all, I will calculate the **\"Prior probability\"**  <br>\n",
    "step-2): Calculate the **marginal liklihood** <br>\n",
    "step-3): calculate the likelihood <br>    \n",
    "</font>\n",
    "\n",
    "\n",
    "<font color = \"blue\" size =\"3.5\" >  \n",
    "**Calculation-1**  </font> <br>\n",
    "\n",
    "<font color = \"blue\" size =\"2.5\" >  \n",
    "**Prior probability  (step-1)**  </font> <br>\n",
    "E.g. there are two 2 classes, so definitely we want to guess whether to put our point either in  class-1 or class-2\n",
    "<font color = \"blue\" size =\"2\" >  \n",
    "@): Assume that point is actually in class-1, and then calculate the probability of class-1 only <br>\n",
    "@): i.e. number of elements of class-1/total number of observation (whole sample space) <br>\n",
    "@): This is called the prior probability of that class only <br>    \n",
    "</font>\n",
    "\n",
    "\n",
    "<font color = \"blue\" size =\"2.5\" >  \n",
    "**Marginal liklihood  (step-2)**  </font> <br>\n",
    "E.g. there are two 2 classes, so definitely we want to guess whether to put our point either in  class-1 or class-2 \n",
    "<font color = \"blue\" size =\"2\" >  \n",
    "@): I'll insert our data point and make a circle around that, <br>\n",
    "@): After making the circle, I will that all enclosed data-points behaves as of my inserted new data point <br>\n",
    "@): So marginal probability = probability of enclosed data-points <br>\n",
    "@): i.e. number of closed data-points / total number of observations (full sample space) <br>\n",
    "@): this is called **marginal liklihood**, its very similiar to the \"margin values\" of conditional probability <br>\n",
    "</font>\n",
    "\n",
    "\n",
    "<font color = \"blue\" size =\"2.5\" >  \n",
    "**liklihood  (step-3)**  </font> <br>\n",
    "<font color = \"blue\" size =\"2\" >  \n",
    "@): I'll take the same circle and enclosed data <br>\n",
    "@): Now I'll calculate the probability of points belong to class-1 only (class under consideration) and ignore/dim the point of other class/classes. In that circle I mean. <br>\n",
    "@): which means, I will take the circle, exclude yhe data-point of other class. Count the num. of observation belong to current class and divide it by total number of elements of current class.\n",
    "<br>\n",
    "</font>\n",
    "\n",
    "\n",
    "Then insert into the formula...\n",
    "\n",
    "***\n",
    "\n",
    "<font color = \"blue\" size =\"3.5\" >  \n",
    "**Calculation-2**  </font> <br>\n",
    "<font color = \"blue\" size =\"2\" >  \n",
    "@): Repeat all the same steps for class-2 <br> </font>\n",
    "\n",
    "\n",
    "***\n",
    "\n",
    "<font color = \"blue\" size =\"3.5\" >  \n",
    "**Calculation-3**  </font> <br>\n",
    "<font color = \"blue\" size =\"2\" >  \n",
    "@): Repeat all the same steps for class-3,4,5 <br> </font>\n",
    "\n",
    "***\n",
    "\n",
    "and assign to class which has maximum probability, <br>\n",
    "In case of two classes only, we just meed one prob. calculation only <br>\n",
    "Second's is just 1 - first's probability <br>"
   ]
  },
  {
   "cell_type": "markdown",
   "metadata": {},
   "source": [
    "[Back to Top](#start)"
   ]
  },
  {
   "cell_type": "markdown",
   "metadata": {},
   "source": [
    "#### <font color = \"navy\" >1.1) import mostly used libraries </font> <a id=\"ref_1.1\"></a>"
   ]
  },
  {
   "cell_type": "code",
   "execution_count": 1,
   "metadata": {},
   "outputs": [],
   "source": [
    "%reset -f\n",
    "import pandas as pd\n",
    "import numpy as np"
   ]
  },
  {
   "cell_type": "code",
   "execution_count": 2,
   "metadata": {},
   "outputs": [
    {
     "name": "stdout",
     "output_type": "stream",
     "text": [
      "Social_Network_Ads.csv    classification_KNN.ipynb\r\n"
     ]
    }
   ],
   "source": [
    "%ls"
   ]
  },
  {
   "cell_type": "markdown",
   "metadata": {},
   "source": [
    "#### <font color = \"navy\" >1.2) import data frame and have a look on missing values</font> <a id=\"ref_1.2\"></a>"
   ]
  },
  {
   "cell_type": "code",
   "execution_count": 3,
   "metadata": {},
   "outputs": [
    {
     "data": {
      "text/html": [
       "<div>\n",
       "<style scoped>\n",
       "    .dataframe tbody tr th:only-of-type {\n",
       "        vertical-align: middle;\n",
       "    }\n",
       "\n",
       "    .dataframe tbody tr th {\n",
       "        vertical-align: top;\n",
       "    }\n",
       "\n",
       "    .dataframe thead th {\n",
       "        text-align: right;\n",
       "    }\n",
       "</style>\n",
       "<table border=\"1\" class=\"dataframe\">\n",
       "  <thead>\n",
       "    <tr style=\"text-align: right;\">\n",
       "      <th></th>\n",
       "      <th>User ID</th>\n",
       "      <th>Gender</th>\n",
       "      <th>Age</th>\n",
       "      <th>EstimatedSalary</th>\n",
       "      <th>Purchased</th>\n",
       "    </tr>\n",
       "  </thead>\n",
       "  <tbody>\n",
       "    <tr>\n",
       "      <th>0</th>\n",
       "      <td>15624510</td>\n",
       "      <td>0</td>\n",
       "      <td>19</td>\n",
       "      <td>19000</td>\n",
       "      <td>0</td>\n",
       "    </tr>\n",
       "    <tr>\n",
       "      <th>1</th>\n",
       "      <td>15810944</td>\n",
       "      <td>0</td>\n",
       "      <td>35</td>\n",
       "      <td>20000</td>\n",
       "      <td>0</td>\n",
       "    </tr>\n",
       "    <tr>\n",
       "      <th>2</th>\n",
       "      <td>15668575</td>\n",
       "      <td>1</td>\n",
       "      <td>26</td>\n",
       "      <td>43000</td>\n",
       "      <td>0</td>\n",
       "    </tr>\n",
       "    <tr>\n",
       "      <th>3</th>\n",
       "      <td>15603246</td>\n",
       "      <td>1</td>\n",
       "      <td>27</td>\n",
       "      <td>57000</td>\n",
       "      <td>0</td>\n",
       "    </tr>\n",
       "    <tr>\n",
       "      <th>4</th>\n",
       "      <td>15804002</td>\n",
       "      <td>0</td>\n",
       "      <td>19</td>\n",
       "      <td>76000</td>\n",
       "      <td>0</td>\n",
       "    </tr>\n",
       "    <tr>\n",
       "      <th>5</th>\n",
       "      <td>15728773</td>\n",
       "      <td>0</td>\n",
       "      <td>27</td>\n",
       "      <td>58000</td>\n",
       "      <td>0</td>\n",
       "    </tr>\n",
       "    <tr>\n",
       "      <th>6</th>\n",
       "      <td>15598044</td>\n",
       "      <td>1</td>\n",
       "      <td>27</td>\n",
       "      <td>84000</td>\n",
       "      <td>0</td>\n",
       "    </tr>\n",
       "    <tr>\n",
       "      <th>7</th>\n",
       "      <td>15694829</td>\n",
       "      <td>1</td>\n",
       "      <td>32</td>\n",
       "      <td>150000</td>\n",
       "      <td>1</td>\n",
       "    </tr>\n",
       "  </tbody>\n",
       "</table>\n",
       "</div>"
      ],
      "text/plain": [
       "    User ID  Gender  Age  EstimatedSalary  Purchased\n",
       "0  15624510       0   19            19000          0\n",
       "1  15810944       0   35            20000          0\n",
       "2  15668575       1   26            43000          0\n",
       "3  15603246       1   27            57000          0\n",
       "4  15804002       0   19            76000          0\n",
       "5  15728773       0   27            58000          0\n",
       "6  15598044       1   27            84000          0\n",
       "7  15694829       1   32           150000          1"
      ]
     },
     "execution_count": 3,
     "metadata": {},
     "output_type": "execute_result"
    }
   ],
   "source": [
    "tmp = pd.read_csv(\"Social_Network_Ads.csv\")\n",
    "tmp.Gender = pd.Categorical(tmp.Gender,[\"Male\",\"Female\"])\n",
    "tmp.Gender = tmp.Gender.cat.codes\n",
    "tmp.head(8)"
   ]
  },
  {
   "cell_type": "code",
   "execution_count": 4,
   "metadata": {},
   "outputs": [],
   "source": [
    "# print(tmp.dtypes)"
   ]
  },
  {
   "cell_type": "code",
   "execution_count": 5,
   "metadata": {},
   "outputs": [],
   "source": [
    "# tmp.Gender = tmp.Gender.cat.codes"
   ]
  },
  {
   "cell_type": "markdown",
   "metadata": {},
   "source": [
    "<font color = \"Brown\" size =\"4\" >  \n",
    "Indepedent variables=> X  <br/>\n",
    "dependent => y (in classification, It is representing the Binary situation here) <br>    \n",
    "</font>"
   ]
  },
  {
   "cell_type": "code",
   "execution_count": 6,
   "metadata": {},
   "outputs": [],
   "source": [
    "X = tmp.iloc[:,[2,3]].values\n",
    "y = tmp.Purchased.values"
   ]
  },
  {
   "cell_type": "code",
   "execution_count": 7,
   "metadata": {},
   "outputs": [
    {
     "data": {
      "text/plain": [
       "(400,)"
      ]
     },
     "execution_count": 7,
     "metadata": {},
     "output_type": "execute_result"
    }
   ],
   "source": [
    "X.shape\n",
    "y.shape"
   ]
  },
  {
   "cell_type": "code",
   "execution_count": 8,
   "metadata": {},
   "outputs": [
    {
     "name": "stdout",
     "output_type": "stream",
     "text": [
      "X -->: INDEPENDENT type \n",
      "[[    19  19000]\n",
      " [    35  20000]\n",
      " [    26  43000]\n",
      " [    27  57000]\n",
      " [    19  76000]\n",
      " [    27  58000]\n",
      " [    27  84000]\n",
      " [    32 150000]\n",
      " [    25  33000]\n",
      " [    35  65000]]\n",
      "====================================================\n",
      "X -->: DEPENDENT, decision\n",
      "[0 0 0 0 0 0 0 1 0 0 0 0 0 0 0 0 1 1 1 1 1 1 1 1 1 1 1 1 0 0 0 1 0 0 0 0 0\n",
      " 0 0 0 0 0 0 0 0 0 0 0 1 0 0 0 0 0 0 0 0 0 0 0 0 0 0 1 0 0 0 0 0 0 0 0 0 0\n",
      " 0 1 0 0 0 0 0 0 0 0 0 1 0 0 0 0 0 0 0 0 0 0 0 1 0 0 0 0 0 1 0 0 0 0 0 0 0\n",
      " 0 0 0 0 0 0 0 0 0 0 0 0 0 0 0 0 0 0 0 0 0 0 0 0 0 0 1 0 0 0 0 0 0 0 0 1 0\n",
      " 0 0 0 0 0 0 0 0 0 0 0 1 1 0 0 0 0 0 0 0 1 0 0 0 0 0 0 0 0 0 0 0 0 0 1 0 0\n",
      " 0 0 0 0 0 0 0 0 0 0 0 0 0 0 0 0 0 1 0 1 0 1 0 1 0 1 1 0 0 0 1 0 0 0 1 0 1\n",
      " 1 1 0 0 1 1 0 1 1 0 1 1 0 1 0 0 0 1 1 0 1 1 0 1 0 1 0 1 0 0 1 1 0 1 0 0 1\n",
      " 1 0 1 1 0 1 1 0 0 1 0 0 1 1 1 1 1 0 1 1 1 1 0 1 1 0 1 0 1 0 1 1 1 1 0 0 0\n",
      " 1 1 0 1 1 1 1 1 0 0 0 1 1 0 0 1 0 1 0 1 1 0 1 0 1 1 0 1 1 0 0 0 1 1 0 1 0\n",
      " 0 1 0 1 0 0 1 1 0 0 1 1 0 1 1 0 0 1 0 1 0 1 1 1 0 1 0 1 1 1 0 1 1 1 1 0 1\n",
      " 1 1 0 1 0 1 0 0 1 1 0 1 1 1 1 1 1 0 1 1 1 1 1 1 0 1 1 1 0 1]\n"
     ]
    }
   ],
   "source": [
    "print(\"X -->: INDEPENDENT type \")\n",
    "print(np.array_str(X[0:10], precision = 3, suppress_small=True))\n",
    "print(\"====================================================\")\n",
    "print(\"X -->: DEPENDENT, decision\")\n",
    "print(y)"
   ]
  },
  {
   "cell_type": "code",
   "execution_count": 9,
   "metadata": {},
   "outputs": [],
   "source": [
    "# X  # ==> age, salary\n",
    "# y  # ==> categorical variable (yes/no)"
   ]
  },
  {
   "cell_type": "markdown",
   "metadata": {},
   "source": [
    "[Back to Top](#start)"
   ]
  },
  {
   "cell_type": "markdown",
   "metadata": {},
   "source": [
    "#### <font color = \"navy\" >1.3) Splitting test and training sets </font> <a id=\"ref_1.3\"></a>"
   ]
  },
  {
   "cell_type": "code",
   "execution_count": 10,
   "metadata": {},
   "outputs": [],
   "source": [
    "from sklearn.model_selection import train_test_split"
   ]
  },
  {
   "cell_type": "code",
   "execution_count": 11,
   "metadata": {},
   "outputs": [],
   "source": [
    "X_train, X_test, y_train, y_test = train_test_split(X,y,test_size = 0.25, random_state=0)"
   ]
  },
  {
   "cell_type": "code",
   "execution_count": 12,
   "metadata": {},
   "outputs": [
    {
     "name": "stdout",
     "output_type": "stream",
     "text": [
      "X_train\n",
      "(300, 2)\n",
      "=======\n",
      "X_test\n",
      "(100, 2)\n",
      "=======\n",
      "y_train\n",
      "(300,)\n",
      "=======\n",
      "y_test\n",
      "(100,)\n"
     ]
    }
   ],
   "source": [
    "print(\"X_train\")\n",
    "# print(X_train)\n",
    "print(X_train.shape)\n",
    "print(\"=======\")\n",
    "print(\"X_test\")\n",
    "# print(X_test)\n",
    "print(X_test.shape)\n",
    "print(\"=======\")\n",
    "print(\"y_train\")\n",
    "# print(y_train)\n",
    "print(y_train.shape)\n",
    "print(\"=======\")\n",
    "print(\"y_test\")\n",
    "# print(y_test)\n",
    "print(y_test.shape)"
   ]
  },
  {
   "cell_type": "markdown",
   "metadata": {},
   "source": [
    "So based on X_train and y_train, I'll train our ML model and then  <br>\n",
    "based on this model, I'll predict whether it matches with the test set .. or how close it is:"
   ]
  },
  {
   "cell_type": "markdown",
   "metadata": {},
   "source": [
    "<font color = \"Brown\" size =\"5\" >  \n",
    "**Adjust feature scalling for Logistic Regression (which is actually a classification)**\n",
    "</font>"
   ]
  },
  {
   "cell_type": "markdown",
   "metadata": {},
   "source": [
    "[Back to Top](#start)"
   ]
  },
  {
   "cell_type": "markdown",
   "metadata": {},
   "source": [
    "#### <font color = \"navy\" >1.4) Feature scalling</font> <a id=\"ref_1.4\"></a>"
   ]
  },
  {
   "cell_type": "code",
   "execution_count": 13,
   "metadata": {},
   "outputs": [],
   "source": [
    "from sklearn.preprocessing import StandardScaler"
   ]
  },
  {
   "cell_type": "code",
   "execution_count": 14,
   "metadata": {},
   "outputs": [],
   "source": [
    "sc_X = StandardScaler()\n",
    "X_train = sc_X.fit_transform(X_train)\n",
    "X_test = sc_X.transform(X_test)"
   ]
  },
  {
   "cell_type": "markdown",
   "metadata": {},
   "source": [
    "<font color = \"Brown\" size =\"3\" >  \n",
    "In above cell, we basically normalize the X_train and X_test only... <br>\n",
    "    I think, I don't need to normalize the y_test in this cases, buz its only 0,1 <br>\n",
    "</font>"
   ]
  },
  {
   "cell_type": "markdown",
   "metadata": {},
   "source": [
    "[Back to Top](#start)"
   ]
  },
  {
   "cell_type": "markdown",
   "metadata": {},
   "source": [
    "#### <font color = \"navy\" >1.5) Naive Bayes classifier (Probability based classifier)</font> <a id=\"ref_1.5\"></a>"
   ]
  },
  {
   "cell_type": "markdown",
   "metadata": {},
   "source": [
    "- **<font color = 'blue' > traning the model</font>**"
   ]
  },
  {
   "cell_type": "code",
   "execution_count": 15,
   "metadata": {},
   "outputs": [],
   "source": [
    "from sklearn.naive_bayes import GaussianNB"
   ]
  },
  {
   "cell_type": "markdown",
   "metadata": {},
   "source": [
    "<font color = \"Brown\" size =\"3\" >  \n",
    "1): Intiution steps are written above <br>   \n",
    "</font>"
   ]
  },
  {
   "cell_type": "code",
   "execution_count": 16,
   "metadata": {},
   "outputs": [],
   "source": [
    "# No need to insert any additional argument inside the class\n",
    "# ==============================================================================\n",
    "classifier = GaussianNB()"
   ]
  },
  {
   "cell_type": "code",
   "execution_count": 17,
   "metadata": {},
   "outputs": [
    {
     "data": {
      "text/plain": [
       "GaussianNB(priors=None, var_smoothing=1e-09)"
      ]
     },
     "execution_count": 17,
     "metadata": {},
     "output_type": "execute_result"
    }
   ],
   "source": [
    "classifier"
   ]
  },
  {
   "cell_type": "code",
   "execution_count": 18,
   "metadata": {
    "scrolled": true
   },
   "outputs": [
    {
     "data": {
      "text/plain": [
       "GaussianNB(priors=None, var_smoothing=1e-09)"
      ]
     },
     "execution_count": 18,
     "metadata": {},
     "output_type": "execute_result"
    }
   ],
   "source": [
    "# Training this kernel classifier with X_train (our training data) \n",
    "classifier.fit(X_train,y_train)"
   ]
  },
  {
   "cell_type": "code",
   "execution_count": null,
   "metadata": {},
   "outputs": [],
   "source": []
  },
  {
   "cell_type": "markdown",
   "metadata": {},
   "source": [
    "- **<font color = 'blue' > Get the predictions</font>**"
   ]
  },
  {
   "cell_type": "code",
   "execution_count": 19,
   "metadata": {},
   "outputs": [],
   "source": [
    "y_pred = classifier.predict(X_test)"
   ]
  },
  {
   "cell_type": "code",
   "execution_count": 20,
   "metadata": {
    "scrolled": true
   },
   "outputs": [
    {
     "data": {
      "text/plain": [
       "array([0, 0, 0, 0, 0, 0, 0, 1, 0, 1, 0, 0, 0, 0, 0, 0, 0, 0, 1, 0, 0, 1,\n",
       "       0, 1, 0, 1, 0, 0, 0, 0, 0, 0, 1, 0, 0, 0, 0, 0, 0, 1, 0, 0, 0, 0,\n",
       "       1, 0, 0, 1, 0, 1, 1, 0, 0, 1, 1, 0, 0, 0, 1, 0, 0, 1, 0, 0, 0, 1,\n",
       "       0, 0, 0, 0, 1, 0, 0, 0, 0, 0, 0, 0, 1, 1, 1, 1, 0, 0, 1, 0, 0, 1,\n",
       "       0, 0, 0, 1, 0, 0, 0, 0, 0, 1, 1, 1])"
      ]
     },
     "execution_count": 20,
     "metadata": {},
     "output_type": "execute_result"
    }
   ],
   "source": [
    "y_pred"
   ]
  },
  {
   "cell_type": "code",
   "execution_count": 21,
   "metadata": {},
   "outputs": [
    {
     "data": {
      "text/plain": [
       "array([0, 0, 0, 0, 0, 0, 0, 1, 0, 0, 0, 0, 0, 0, 0, 0, 0, 0, 1, 0, 0, 1,\n",
       "       0, 1, 0, 1, 0, 0, 0, 0, 0, 1, 1, 0, 0, 0, 0, 0, 0, 1, 0, 0, 0, 0,\n",
       "       1, 0, 0, 1, 0, 1, 1, 0, 0, 0, 1, 1, 0, 0, 1, 0, 0, 1, 0, 1, 0, 1,\n",
       "       0, 0, 0, 0, 1, 0, 0, 1, 0, 0, 0, 0, 1, 1, 1, 0, 0, 0, 1, 1, 0, 1,\n",
       "       1, 0, 0, 1, 0, 0, 0, 1, 0, 1, 1, 1])"
      ]
     },
     "execution_count": 21,
     "metadata": {},
     "output_type": "execute_result"
    }
   ],
   "source": [
    "y_test"
   ]
  },
  {
   "cell_type": "code",
   "execution_count": 22,
   "metadata": {},
   "outputs": [],
   "source": [
    "# X_test[1:10]"
   ]
  },
  {
   "cell_type": "markdown",
   "metadata": {},
   "source": [
    "[Back to Top](#start)"
   ]
  },
  {
   "cell_type": "markdown",
   "metadata": {},
   "source": [
    "#### <font color = \"navy\" >1.6) Performance of Naive Regression</font> <a id=\"ref_1.6\"></a>"
   ]
  },
  {
   "cell_type": "markdown",
   "metadata": {},
   "source": [
    "- **<font color = 'blue' >Create confusion matrix</font>**"
   ]
  },
  {
   "cell_type": "code",
   "execution_count": 23,
   "metadata": {},
   "outputs": [],
   "source": [
    "from sklearn.metrics import confusion_matrix"
   ]
  },
  {
   "cell_type": "code",
   "execution_count": 24,
   "metadata": {},
   "outputs": [],
   "source": [
    "cm = confusion_matrix(y_pred,y_test)"
   ]
  },
  {
   "cell_type": "code",
   "execution_count": 25,
   "metadata": {},
   "outputs": [
    {
     "data": {
      "text/plain": [
       "array([[65,  7],\n",
       "       [ 3, 25]])"
      ]
     },
     "execution_count": 25,
     "metadata": {},
     "output_type": "execute_result"
    }
   ],
   "source": [
    "cm"
   ]
  },
  {
   "cell_type": "markdown",
   "metadata": {},
   "source": [
    "[Back to Top](#start)"
   ]
  },
  {
   "cell_type": "markdown",
   "metadata": {},
   "source": [
    "#### <font color = \"navy\" >1.7) <code>contourf(  )</code> method pyplot plotting, for better Visulalization</font> <a id=\"ref_1.7\"></a>"
   ]
  },
  {
   "cell_type": "code",
   "execution_count": 26,
   "metadata": {},
   "outputs": [],
   "source": [
    "# This code can be use againt anad again, so give a separate name\n",
    "# ==============================================================\n",
    "X_set , y_set = X_train, y_train"
   ]
  },
  {
   "cell_type": "code",
   "execution_count": 27,
   "metadata": {},
   "outputs": [
    {
     "name": "stdout",
     "output_type": "stream",
     "text": [
      "X_min ==> -2.9931891594584856\n",
      "X_min ==> -2.9931891594584856\n"
     ]
    }
   ],
   "source": [
    "# Preparation for grid mesh\n",
    "# ===========================\n",
    "print(f\"X_min ==> {X_set.min()-1}\")\n",
    "print(f\"X_min ==> {X_set.min()-1}\")"
   ]
  },
  {
   "cell_type": "code",
   "execution_count": 28,
   "metadata": {},
   "outputs": [
    {
     "name": "stdout",
     "output_type": "stream",
     "text": [
      "(633,)\n",
      "(633,)\n"
     ]
    }
   ],
   "source": [
    "# Define range baed on X_min, and X_max\n",
    "# ======================================\n",
    "x_axis_range = y_axis_range = np.arange(start = X_set.min()-1, stop =   X_set.max()+1, step = 0.01)\n",
    "\n",
    "# This is so far a like 1-d Numpy array\n",
    "# =====================================\n",
    "print(x_axis_range.shape)\n",
    "print(y_axis_range.shape)"
   ]
  },
  {
   "cell_type": "code",
   "execution_count": 29,
   "metadata": {},
   "outputs": [],
   "source": [
    "# Finally define the mesh.. more detail is giving below this notebook\n",
    "# ===================================================================\n",
    "X1,X2 = np.meshgrid(x_axis_range , y_axis_range)"
   ]
  },
  {
   "cell_type": "code",
   "execution_count": 30,
   "metadata": {},
   "outputs": [
    {
     "data": {
      "text/plain": [
       "array([[-2.99318916, -2.98318916, -2.97318916, ...,  3.30681084,\n",
       "         3.31681084,  3.32681084],\n",
       "       [-2.99318916, -2.98318916, -2.97318916, ...,  3.30681084,\n",
       "         3.31681084,  3.32681084],\n",
       "       [-2.99318916, -2.98318916, -2.97318916, ...,  3.30681084,\n",
       "         3.31681084,  3.32681084],\n",
       "       ...,\n",
       "       [-2.99318916, -2.98318916, -2.97318916, ...,  3.30681084,\n",
       "         3.31681084,  3.32681084],\n",
       "       [-2.99318916, -2.98318916, -2.97318916, ...,  3.30681084,\n",
       "         3.31681084,  3.32681084],\n",
       "       [-2.99318916, -2.98318916, -2.97318916, ...,  3.30681084,\n",
       "         3.31681084,  3.32681084]])"
      ]
     },
     "execution_count": 30,
     "metadata": {},
     "output_type": "execute_result"
    }
   ],
   "source": [
    "# Exclusively check the X1\n",
    "# ==========================\n",
    "X1"
   ]
  },
  {
   "cell_type": "code",
   "execution_count": 31,
   "metadata": {},
   "outputs": [
    {
     "name": "stdout",
     "output_type": "stream",
     "text": [
      "(633, 633)\n",
      "(633, 633)\n"
     ]
    }
   ],
   "source": [
    "print(X1.shape)\n",
    "print(X2.shape)"
   ]
  },
  {
   "cell_type": "markdown",
   "metadata": {},
   "source": [
    "<font color = \"plotly_dark\" size =\"4\" >  \n",
    "Here, as I know the approach is to use each point of pixcel as a X_test data for the model to get prediction <br>\n",
    "The model need this pixcel point of whatever the data is, same as of the format of X_train <br>\n",
    "While <code>contourf(  )</code> pyplot method, need as a grid form.. so we need to tackle each separately <br>    \n",
    "</font>"
   ]
  },
  {
   "cell_type": "code",
   "execution_count": 32,
   "metadata": {},
   "outputs": [
    {
     "data": {
      "text/plain": [
       "array([[ 0.58164944, -0.88670699],\n",
       "       [-0.60673761,  1.46173768],\n",
       "       [-0.01254409, -0.5677824 ],\n",
       "       [-0.60673761,  1.89663484],\n",
       "       [ 1.37390747, -1.40858358]])"
      ]
     },
     "execution_count": 32,
     "metadata": {},
     "output_type": "execute_result"
    }
   ],
   "source": [
    "# Have a look , how is X_train shape look like\n",
    "# Array of arrays, where each sub-array has two element, (Age, Salary)\n",
    "# ====================================================================\n",
    "X_train[0:5]"
   ]
  },
  {
   "cell_type": "code",
   "execution_count": 33,
   "metadata": {},
   "outputs": [],
   "source": [
    "# Here I'm preparing the grid for the model\n",
    "# ===========================================\n",
    "X1X2_grid_as___X_train_shape =  np.array([X1.ravel(),X2.ravel()]).T"
   ]
  },
  {
   "cell_type": "code",
   "execution_count": 34,
   "metadata": {},
   "outputs": [],
   "source": [
    "# Feed the grid_data to the model and get prediction as Z variable\n",
    "# ================================================================\n",
    "Z_AS__y_train_shape =    classifier.predict(X1X2_grid_as___X_train_shape)"
   ]
  },
  {
   "cell_type": "code",
   "execution_count": 35,
   "metadata": {},
   "outputs": [
    {
     "name": "stdout",
     "output_type": "stream",
     "text": [
      "(400689,)\n"
     ]
    }
   ],
   "source": [
    "# This Z must be as of shape, like y_test, y_train or so\n",
    "# =====================================================\n",
    "Z_AS__y_train_shape\n",
    "print(Z_AS__y_train_shape.shape)"
   ]
  },
  {
   "cell_type": "code",
   "execution_count": 36,
   "metadata": {},
   "outputs": [],
   "source": [
    "# For countourf , plot, need to change the shape .... == X1 or X2 or grid data\n",
    "# ========================================================================\n",
    "Z_AS__X1_shape = Z_AS__y_train_shape.reshape(X1.shape)"
   ]
  },
  {
   "cell_type": "code",
   "execution_count": 37,
   "metadata": {},
   "outputs": [
    {
     "data": {
      "text/plain": [
       "(633, 633)"
      ]
     },
     "execution_count": 37,
     "metadata": {},
     "output_type": "execute_result"
    }
   ],
   "source": [
    "# And here it is\n",
    "# ===================\n",
    "Z_AS__X1_shape.shape"
   ]
  },
  {
   "cell_type": "code",
   "execution_count": 38,
   "metadata": {},
   "outputs": [],
   "source": [
    "from matplotlib.colors import ListedColormap\n",
    "import matplotlib.pyplot as plt"
   ]
  },
  {
   "cell_type": "code",
   "execution_count": 39,
   "metadata": {},
   "outputs": [
    {
     "data": {
      "text/plain": [
       "<matplotlib.legend.Legend at 0x1a187d8a58>"
      ]
     },
     "execution_count": 39,
     "metadata": {},
     "output_type": "execute_result"
    },
    {
     "data": {
      "image/png": "[encoded data removed]",
      "text/plain": [
       "<Figure size 1080x576 with 1 Axes>"
      ]
     },
     "metadata": {
      "needs_background": "light"
     },
     "output_type": "display_data"
    }
   ],
   "source": [
    "fig1, ax1 = plt.subplots(figsize = (15,8))\n",
    "\n",
    "# The contourf is for background pixel\n",
    "# =======================================\n",
    "ax1.contourf(X1,X2,Z_AS__X1_shape,alpha = 0.60,cmap =  ListedColormap((\"red\",\"green\")))\n",
    "\n",
    "# First plot the \"red\" data points and then proceed for the green data points,, with decent automatic label\n",
    "# =========================================================================================================\n",
    "ax1.scatter([i[0] for i in X_set[y_set ==0]], [i[1] for i in X_set[y_set ==0]] , edgecolor='black',facecolor = \"red\", label = 0 )\n",
    "ax1.scatter([i[0] for i in X_set[y_set ==1]], [i[1] for i in X_set[y_set ==1]] , facecolor = \"green\",edgecolor = \"white\" ,label = 1 )\n",
    "ax1.set_title(\"Training set:  Naive classifier (Bayes theory based classifier)\", size = 16, color = \"black\")\n",
    "ax1.set_xlabel(\"Age\", size = 20)\n",
    "ax1.set_ylabel(\"Salary\", size = 20)\n",
    "ax1.legend()\n"
   ]
  },
  {
   "cell_type": "code",
   "execution_count": null,
   "metadata": {},
   "outputs": [],
   "source": []
  },
  {
   "cell_type": "code",
   "execution_count": 42,
   "metadata": {
    "scrolled": false
   },
   "outputs": [
    {
     "data": {
      "text/plain": [
       "<matplotlib.legend.Legend at 0x1a1a13ba20>"
      ]
     },
     "execution_count": 42,
     "metadata": {},
     "output_type": "execute_result"
    },
    {
     "data": {
      "image/png": "[encoded data removed]",
      "text/plain": [
       "<Figure size 1080x576 with 1 Axes>"
      ]
     },
     "metadata": {
      "needs_background": "light"
     },
     "output_type": "display_data"
    }
   ],
   "source": [
    "# This code can be use againt anad again, so give a separate name\n",
    "# ==============================================================\n",
    "X_set , y_set = X_test, y_test\n",
    "\n",
    "\n",
    "# Define range baed on X_min, and X_max\n",
    "# ======================================\n",
    "x_axis_range = y_axis_range = np.arange(start = X_set.min()-1, stop =   X_set.max()+1, step = 0.01)\n",
    "\n",
    "# This is so far a like 1-d Numpy array\n",
    "# =====================================\n",
    "# print(x_axis_range.shape)\n",
    "# print(y_axis_range.shape)\n",
    "\n",
    "# Finally define the mesh.. more detail is giving below this notebook\n",
    "# ===================================================================\n",
    "X1,X2 = np.meshgrid(x_axis_range , y_axis_range)\n",
    "\n",
    "\n",
    "# Here I'm preparing the grid for the model\n",
    "# ===========================================\n",
    "X1X2_grid_as___X_train_shape =  np.array([X1.ravel(),X2.ravel()]).T\n",
    "\n",
    "# Feed the grid_data to the model and get prediction as Z variable\n",
    "# ================================================================\n",
    "Z_AS__y_train_shape =    classifier.predict(X1X2_grid_as___X_train_shape)\n",
    "\n",
    "# For countourf , plot, need to change the shape .... == X1 or X2 or grid data\n",
    "# ========================================================================\n",
    "Z_AS__X1_shape = Z_AS__y_train_shape.reshape(X1.shape)\n",
    "#================================================================================\n",
    "#================================================================================\n",
    "#================================================================================\n",
    "#================================================================================\n",
    "fig2, ax2 = plt.subplots(figsize = (15,8))\n",
    "\n",
    "# The contourf is for background pixel\n",
    "# =======================================\n",
    "ax2.contourf(X1,X2,Z_AS__X1_shape,alpha = 0.60,cmap =  ListedColormap((\"red\",\"green\")))\n",
    "\n",
    "# First plot the \"red\" data points and then proceed for the green data points,, with decent automatic label\n",
    "# =========================================================================================================\n",
    "ax2.scatter([i[0] for i in X_set[y_set ==0]], [i[1] for i in X_set[y_set ==0]] , edgecolor='black',facecolor = \"red\", label = 0 )\n",
    "ax2.scatter([i[0] for i in X_set[y_set ==1]], [i[1] for i in X_set[y_set ==1]] , facecolor = \"green\",edgecolor = \"white\" ,label = 1 )\n",
    "ax2.set_title(\"Test set:  Naive classifier (Bayes theory based classifier)\", size = 16, color = \"black\")\n",
    "ax2.set_xlabel(\"Age\", size = 20)\n",
    "ax2.set_ylabel(\"Salary\", size = 20)\n",
    "ax2.legend()\n",
    "\n",
    "# Calculate the number of points...."
   ]
  },
  {
   "cell_type": "code",
   "execution_count": 41,
   "metadata": {},
   "outputs": [],
   "source": [
    "# Looking new observations but the regions will remain the same...\n",
    "# K-NN is non-linear classifier, \n",
    "# useful when data is not linealy separable"
   ]
  },
  {
   "cell_type": "markdown",
   "metadata": {},
   "source": [
    "[Back to Top](#start)"
   ]
  },
  {
   "cell_type": "markdown",
   "metadata": {},
   "source": [
    "#### <font color = \"navy\" >Unpacking and mesh plotting with plotly Review</font> <a id=\"ref_review\"></a>"
   ]
  },
  {
   "cell_type": "markdown",
   "metadata": {},
   "source": [
    "### List unpacking"
   ]
  },
  {
   "cell_type": "code",
   "execution_count": 44,
   "metadata": {},
   "outputs": [],
   "source": [
    "lis_1 = [1,2,3,4,5,6]"
   ]
  },
  {
   "cell_type": "code",
   "execution_count": 45,
   "metadata": {},
   "outputs": [],
   "source": [
    "h1, h2, h3, h4, h5, h6 = lis_1"
   ]
  },
  {
   "cell_type": "code",
   "execution_count": 46,
   "metadata": {},
   "outputs": [
    {
     "name": "stdout",
     "output_type": "stream",
     "text": [
      "| 1 | 2 | 3 | 4 | 5 |\n"
     ]
    }
   ],
   "source": [
    "print(f\"| {h1} | {h2} | {h3} | {h4} | {h5} |\")"
   ]
  },
  {
   "cell_type": "markdown",
   "metadata": {},
   "source": [
    "### Array unpacking unpacking"
   ]
  },
  {
   "cell_type": "code",
   "execution_count": 47,
   "metadata": {},
   "outputs": [],
   "source": [
    "lis_1 = [1,2,3,4,5,6]\n",
    "lis_2 = [7,8,9]"
   ]
  },
  {
   "cell_type": "code",
   "execution_count": 48,
   "metadata": {},
   "outputs": [
    {
     "data": {
      "text/plain": [
       "[[1, 2, 3, 4, 5, 6], [7, 8, 9]]"
      ]
     },
     "execution_count": 48,
     "metadata": {},
     "output_type": "execute_result"
    }
   ],
   "source": [
    "arr = [lis_1,lis_2]\n",
    "arr"
   ]
  },
  {
   "cell_type": "code",
   "execution_count": 49,
   "metadata": {},
   "outputs": [],
   "source": [
    "e1,e2 = arr"
   ]
  },
  {
   "cell_type": "code",
   "execution_count": 50,
   "metadata": {},
   "outputs": [
    {
     "data": {
      "text/plain": [
       "[1, 2, 3, 4, 5, 6]"
      ]
     },
     "execution_count": 50,
     "metadata": {},
     "output_type": "execute_result"
    }
   ],
   "source": [
    "e1"
   ]
  },
  {
   "cell_type": "code",
   "execution_count": 51,
   "metadata": {},
   "outputs": [
    {
     "data": {
      "text/plain": [
       "[7, 8, 9]"
      ]
     },
     "execution_count": 51,
     "metadata": {},
     "output_type": "execute_result"
    }
   ],
   "source": [
    "e2"
   ]
  },
  {
   "cell_type": "markdown",
   "metadata": {},
   "source": [
    "### Meshgrid unpacking unpacking"
   ]
  },
  {
   "cell_type": "code",
   "execution_count": 52,
   "metadata": {},
   "outputs": [],
   "source": [
    "xvalues = [1,2,3,4,5,6]\n",
    "yvalues = [7,8,9]"
   ]
  },
  {
   "cell_type": "code",
   "execution_count": 53,
   "metadata": {},
   "outputs": [
    {
     "data": {
      "text/plain": [
       "[array([[1, 2, 3, 4, 5, 6],\n",
       "        [1, 2, 3, 4, 5, 6],\n",
       "        [1, 2, 3, 4, 5, 6]]),\n",
       " array([[7, 7, 7, 7, 7, 7],\n",
       "        [8, 8, 8, 8, 8, 8],\n",
       "        [9, 9, 9, 9, 9, 9]])]"
      ]
     },
     "execution_count": 53,
     "metadata": {},
     "output_type": "execute_result"
    }
   ],
   "source": [
    "np.meshgrid(xvalues,yvalues)"
   ]
  },
  {
   "cell_type": "markdown",
   "metadata": {},
   "source": [
    "<code>xvalues</code> will be repeated <code>len(yvalues)</code> times along yaxis,(V.down on computer screen) <br>\n",
    "and <code>yvalues</code> will be repeated <code>len(xvalues)</code> times along xaxis,(LEFT/RIGHT on computer screen) <br>\n",
    "This creates 2 arrays <br>\n"
   ]
  },
  {
   "cell_type": "code",
   "execution_count": 54,
   "metadata": {},
   "outputs": [],
   "source": [
    "xx,yy = np.meshgrid(xvalues,yvalues)"
   ]
  },
  {
   "cell_type": "code",
   "execution_count": 55,
   "metadata": {},
   "outputs": [
    {
     "data": {
      "text/plain": [
       "array([[1, 2, 3, 4, 5, 6],\n",
       "       [1, 2, 3, 4, 5, 6],\n",
       "       [1, 2, 3, 4, 5, 6]])"
      ]
     },
     "execution_count": 55,
     "metadata": {},
     "output_type": "execute_result"
    }
   ],
   "source": [
    "xx"
   ]
  },
  {
   "cell_type": "code",
   "execution_count": 56,
   "metadata": {
    "scrolled": true
   },
   "outputs": [
    {
     "data": {
      "text/plain": [
       "(3, 6)"
      ]
     },
     "execution_count": 56,
     "metadata": {},
     "output_type": "execute_result"
    }
   ],
   "source": [
    "xx.shape"
   ]
  },
  {
   "cell_type": "code",
   "execution_count": 57,
   "metadata": {},
   "outputs": [
    {
     "data": {
      "text/plain": [
       "array([[7, 7, 7, 7, 7, 7],\n",
       "       [8, 8, 8, 8, 8, 8],\n",
       "       [9, 9, 9, 9, 9, 9]])"
      ]
     },
     "execution_count": 57,
     "metadata": {},
     "output_type": "execute_result"
    }
   ],
   "source": [
    "yy"
   ]
  },
  {
   "cell_type": "code",
   "execution_count": 58,
   "metadata": {},
   "outputs": [
    {
     "data": {
      "text/plain": [
       "(3, 6)"
      ]
     },
     "execution_count": 58,
     "metadata": {},
     "output_type": "execute_result"
    }
   ],
   "source": [
    "yy.shape"
   ]
  },
  {
   "cell_type": "code",
   "execution_count": 59,
   "metadata": {},
   "outputs": [
    {
     "name": "stdout",
     "output_type": "stream",
     "text": [
      "[7 7 7 7 7 7]\n",
      "[1 2 3 4 5 6]\n"
     ]
    }
   ],
   "source": [
    "print(f\"{yy[0]}\")\n",
    "print(f\"{xx[0]}\")"
   ]
  }
 ],
 "metadata": {
  "kernelspec": {
   "display_name": "Python 3",
   "language": "python",
   "name": "python3"
  },
  "language_info": {
   "codemirror_mode": {
    "name": "ipython",
    "version": 3
   },
   "file_extension": ".py",
   "mimetype": "text/x-python",
   "name": "python",
   "nbconvert_exporter": "python",
   "pygments_lexer": "ipython3",
   "version": "3.6.10"
  }
 },
 "nbformat": 4,
 "nbformat_minor": 2
}
