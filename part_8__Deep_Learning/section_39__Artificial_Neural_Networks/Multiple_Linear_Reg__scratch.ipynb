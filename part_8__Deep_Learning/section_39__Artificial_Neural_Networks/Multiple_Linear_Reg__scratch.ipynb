{
 "cells": [
  {
   "cell_type": "markdown",
   "metadata": {},
   "source": [
    "<a id=\"start\"></a>\n",
    "\n",
    "<span style=\"padding: 0 05px\"></span> [ <font color = \"black\" size =\"3.5\" > **Ch. 1** <span style = \"padding:0 2px\"></span> **Desent Gradient with 2D space**](#ch_1) </font>   <br/>\n",
    "<span style=\"padding: 0 40px\"></span> [ <font color = \"blue\" size =\"2\" > 1.1 <span style = \"padding:0 12px\"></span> Total Error](#ref_1.1) </font>   <br/>\n",
    "<span style=\"padding: 0 40px\"></span> [ <font color = \"blue\" size =\"2\" > 1.2 <span style = \"padding:0 12px\"></span> Mean Error](#ref_1.2) </font>   <br/>\n",
    "<span style=\"padding: 0 40px\"></span> [ <font color = \"blue\" size =\"2\" > 1.3 <span style = \"padding:0 12px\"></span> Mean Squre Error](#ref_1.3) </font>   <br/>\n",
    "<span style=\"padding: 0 40px\"></span> [ <font color = \"blue\" size =\"2\" > 1.4 <span style = \"padding:0 12px\"></span> No systematic change in c and m = 0, always ](#ref_1.4) </font>   <br/>\n",
    "<span style=\"padding: 0 40px\"></span> [ <font color = \"blue\" size =\"2\" > 1.5 <span style = \"padding:0 12px\"></span> Constant incriment delta_m = 1 always ](#ref_1.5) </font>   <br/>\n",
    "<span style=\"padding: 0 40px\"></span> [ <font color = \"blue\" size =\"2\" > 1.6 <span style = \"padding:0 12px\"></span> Desent Gradient without learning_rate ](#ref_1.6) </font>   <br/>\n",
    "<span style=\"padding: 0 40px\"></span> [ <font color = \"blue\" size =\"2\" > 1.7 <span style = \"padding:0 12px\"></span> Desent Gradient with learning_rate and 1 major Iteration ](#ref_1.7) </font>   <br/>\n",
    "<span style=\"padding: 0 40px\"></span> [ <font color = \"blue\" size =\"2\" > 1.8 <span style = \"padding:0 12px\"></span> Desent Gradient: Full Code  ](#ref_1.8) </font>   <br/>\n",
    "\n",
    "<span style=\"padding: 0 05px\"></span> [ <font color = \"black\" size =\"3.5\" > **Ch. 2** <span style = \"padding:0 2px\"></span> **Desent Gradient with multiple variable**](#ch_2) </font>   <br/>\n",
    "\n",
    "\n",
    "\n",
    "[Back to Top](#start)"
   ]
  },
  {
   "cell_type": "markdown",
   "metadata": {},
   "source": [
    "https://www.youtube.com/channel/UCL-_0RrZ3084Ea8Yavtcd9g/playlists   <br>\n",
    "https://towardsdatascience.com/understanding-the-mathematics-behind-gradient-descent-dde5dc9be06e  <br>"
   ]
  },
  {
   "cell_type": "markdown",
   "metadata": {},
   "source": [
    "### Ch.1 : Desent Gradient with 2D space <a id=\"ch_1\"></a>"
   ]
  },
  {
   "cell_type": "markdown",
   "metadata": {},
   "source": [
    "#### <font color = \"navy\" >1.1) Total Error</font> <a id=\"ref_1.1\"></a>"
   ]
  },
  {
   "cell_type": "code",
   "execution_count": 1,
   "metadata": {},
   "outputs": [],
   "source": [
    "y_pred = [30,25,22,20]\n",
    "y_test = [32,25,20,18]"
   ]
  },
  {
   "cell_type": "code",
   "execution_count": 3,
   "metadata": {},
   "outputs": [
    {
     "name": "stdout",
     "output_type": "stream",
     "text": [
      "6\n"
     ]
    }
   ],
   "source": [
    "# Total Error\n",
    "# ----------\n",
    "total_error = 0\n",
    "for a,b in zip(y_pred,y_test):\n",
    "    total_error+=abs(b-a)\n",
    "\n",
    "print(total_error)"
   ]
  },
  {
   "cell_type": "markdown",
   "metadata": {},
   "source": [
    "[Back to Top](#start)"
   ]
  },
  {
   "cell_type": "markdown",
   "metadata": {},
   "source": [
    "#### <font color = \"navy\" >1.2) Mean Error </font> <a id=\"ref_1.2\"></a>"
   ]
  },
  {
   "cell_type": "code",
   "execution_count": 11,
   "metadata": {},
   "outputs": [
    {
     "name": "stdout",
     "output_type": "stream",
     "text": [
      "1.5\n"
     ]
    }
   ],
   "source": [
    "# Mean Error\n",
    "# ----------\n",
    "mean_error = total_error /len(y_pred)\n",
    "print(mean_error)"
   ]
  },
  {
   "cell_type": "markdown",
   "metadata": {},
   "source": [
    "[Back to Top](#start)"
   ]
  },
  {
   "cell_type": "markdown",
   "metadata": {},
   "source": [
    "#### <font color = \"navy\" >1.3) Mean Square Error </font> <a id=\"ref_1.3\"></a>"
   ]
  },
  {
   "cell_type": "code",
   "execution_count": 12,
   "metadata": {},
   "outputs": [
    {
     "name": "stdout",
     "output_type": "stream",
     "text": [
      "3.0\n"
     ]
    }
   ],
   "source": [
    "# Mean Square Error\n",
    "# ----------------\n",
    "mean_square_error = 0\n",
    "total_sum = 0\n",
    "for a,b in zip(y_pred,y_test):\n",
    "    total_sum+= (a-b)**2\n",
    "\n",
    "mean_error = total_sum/len(y_pred)\n",
    "print(mean_error)"
   ]
  },
  {
   "cell_type": "code",
   "execution_count": null,
   "metadata": {},
   "outputs": [],
   "source": [
    "# parameter vector"
   ]
  },
  {
   "cell_type": "code",
   "execution_count": null,
   "metadata": {},
   "outputs": [],
   "source": [
    "# Gradent desent is a general algo. can applied to minimize any system in general... not just for regression or so\n",
    "# f(x) = ax_1 + bx_2 + cx_3 + ..."
   ]
  },
  {
   "cell_type": "markdown",
   "metadata": {},
   "source": [
    "[Back to Top](#start)"
   ]
  },
  {
   "cell_type": "markdown",
   "metadata": {},
   "source": [
    "#### <font color = \"navy\" >1.4) No systematic change in c and m = 0, always </font> <a id=\"ref_1.4\"></a>"
   ]
  },
  {
   "cell_type": "code",
   "execution_count": 3,
   "metadata": {},
   "outputs": [],
   "source": [
    "%reset -f\n",
    "import pandas as pd\n",
    "import matplotlib.pyplot as plt"
   ]
  },
  {
   "cell_type": "code",
   "execution_count": 4,
   "metadata": {},
   "outputs": [
    {
     "data": {
      "text/html": [
       "<div>\n",
       "<style scoped>\n",
       "    .dataframe tbody tr th:only-of-type {\n",
       "        vertical-align: middle;\n",
       "    }\n",
       "\n",
       "    .dataframe tbody tr th {\n",
       "        vertical-align: top;\n",
       "    }\n",
       "\n",
       "    .dataframe thead th {\n",
       "        text-align: right;\n",
       "    }\n",
       "</style>\n",
       "<table border=\"1\" class=\"dataframe\">\n",
       "  <thead>\n",
       "    <tr style=\"text-align: right;\">\n",
       "      <th></th>\n",
       "      <th>Hours</th>\n",
       "      <th>IQ</th>\n",
       "      <th>Scores</th>\n",
       "      <th>Pass</th>\n",
       "    </tr>\n",
       "  </thead>\n",
       "  <tbody>\n",
       "    <tr>\n",
       "      <th>0</th>\n",
       "      <td>2.3</td>\n",
       "      <td>80</td>\n",
       "      <td>18</td>\n",
       "      <td>0</td>\n",
       "    </tr>\n",
       "    <tr>\n",
       "      <th>1</th>\n",
       "      <td>5.0</td>\n",
       "      <td>80</td>\n",
       "      <td>45</td>\n",
       "      <td>1</td>\n",
       "    </tr>\n",
       "    <tr>\n",
       "      <th>2</th>\n",
       "      <td>3.2</td>\n",
       "      <td>70</td>\n",
       "      <td>25</td>\n",
       "      <td>0</td>\n",
       "    </tr>\n",
       "    <tr>\n",
       "      <th>3</th>\n",
       "      <td>8.5</td>\n",
       "      <td>90</td>\n",
       "      <td>72</td>\n",
       "      <td>1</td>\n",
       "    </tr>\n",
       "    <tr>\n",
       "      <th>4</th>\n",
       "      <td>3.5</td>\n",
       "      <td>70</td>\n",
       "      <td>30</td>\n",
       "      <td>0</td>\n",
       "    </tr>\n",
       "  </tbody>\n",
       "</table>\n",
       "</div>"
      ],
      "text/plain": [
       "   Hours  IQ  Scores  Pass\n",
       "0    2.3  80      18     0\n",
       "1    5.0  80      45     1\n",
       "2    3.2  70      25     0\n",
       "3    8.5  90      72     1\n",
       "4    3.5  70      30     0"
      ]
     },
     "execution_count": 4,
     "metadata": {},
     "output_type": "execute_result"
    }
   ],
   "source": [
    "df = pd.read_csv(\"student_scores2.csv\")\n",
    "df.head()"
   ]
  },
  {
   "cell_type": "code",
   "execution_count": 5,
   "metadata": {},
   "outputs": [
    {
     "data": {
      "text/plain": [
       "Text(0.5, 1.0, 'Hours Vs Scores')"
      ]
     },
     "execution_count": 5,
     "metadata": {},
     "output_type": "execute_result"
    },
    {
     "data": {
      "image/png": "[encoded data removed]",
      "text/plain": [
       "<Figure size 576x432 with 1 Axes>"
      ]
     },
     "metadata": {
      "needs_background": "light"
     },
     "output_type": "display_data"
    }
   ],
   "source": [
    "x = df[\"Hours\"]; y = df[\"Scores\"]\n",
    "# ----------------------------------\n",
    "fig, ax = plt.subplots(figsize = (8,6))\n",
    "\n",
    "ax.scatter(x, y,s = 80)\n",
    "\n",
    "ax.set_xlabel(\"Number of Hours\", size = 16, color = \"green\")\n",
    "ax.set_ylabel(\"Score\", size = 16, color = \"green\")\n",
    "ax.set_title(\"Hours Vs Scores\", size = 16, color = \"green\")"
   ]
  },
  {
   "cell_type": "code",
   "execution_count": 6,
   "metadata": {},
   "outputs": [],
   "source": [
    "def gradient_desc(x,y_actual,m,c):\n",
    "    # step-1: start with random value of m & b--> calculate the error\n",
    "    #         By using current m and b, make some prediction (say straight line) and also calculate the error\n",
    "    # -----------------------------------------------------------------------------------------------\n",
    "    \n",
    "    y_pred = [0] * len(x)\n",
    "    error  = [0] * len(x)\n",
    "    \n",
    "    for i in range(len(x)):\n",
    "        y_pred[i] = x[i]*m + c\n",
    "        \n",
    "        error[i]  = y_pred[i] - y_actual[i]  # don't use abs(), as we also need direction\n",
    "        \n",
    "        print(f\"prediction{i} = {y_pred[i]} ; actual{i} = {y_actual[i]}; m = {m} ; error = {error[i]}\")\n",
    "        "
   ]
  },
  {
   "cell_type": "code",
   "execution_count": 7,
   "metadata": {
    "collapsed": true
   },
   "outputs": [
    {
     "name": "stdout",
     "output_type": "stream",
     "text": [
      "prediction0 = 0.0 ; actual0 = 18; m = 0 ; error = -18.0\n",
      "prediction1 = 0.0 ; actual1 = 45; m = 0 ; error = -45.0\n",
      "prediction2 = 0.0 ; actual2 = 25; m = 0 ; error = -25.0\n",
      "prediction3 = 0.0 ; actual3 = 72; m = 0 ; error = -72.0\n",
      "prediction4 = 0.0 ; actual4 = 30; m = 0 ; error = -30.0\n",
      "prediction5 = 0.0 ; actual5 = 20; m = 0 ; error = -20.0\n",
      "prediction6 = 0.0 ; actual6 = 88; m = 0 ; error = -88.0\n",
      "prediction7 = 0.0 ; actual7 = 60; m = 0 ; error = -60.0\n",
      "prediction8 = 0.0 ; actual8 = 81; m = 0 ; error = -81.0\n",
      "prediction9 = 0.0 ; actual9 = 25; m = 0 ; error = -25.0\n",
      "prediction10 = 0.0 ; actual10 = 85; m = 0 ; error = -85.0\n",
      "prediction11 = 0.0 ; actual11 = 62; m = 0 ; error = -62.0\n",
      "prediction12 = 0.0 ; actual12 = 41; m = 0 ; error = -41.0\n",
      "prediction13 = 0.0 ; actual13 = 44; m = 0 ; error = -44.0\n",
      "prediction14 = 0.0 ; actual14 = 17; m = 0 ; error = -17.0\n",
      "prediction15 = 0.0 ; actual15 = 95; m = 0 ; error = -95.0\n",
      "prediction16 = 0.0 ; actual16 = 30; m = 0 ; error = -30.0\n",
      "prediction17 = 0.0 ; actual17 = 24; m = 0 ; error = -24.0\n",
      "prediction18 = 0.0 ; actual18 = 67; m = 0 ; error = -67.0\n",
      "prediction19 = 0.0 ; actual19 = 69; m = 0 ; error = -69.0\n",
      "prediction20 = 0.0 ; actual20 = 30; m = 0 ; error = -30.0\n",
      "prediction21 = 0.0 ; actual21 = 54; m = 0 ; error = -54.0\n",
      "prediction22 = 0.0 ; actual22 = 33; m = 0 ; error = -33.0\n",
      "prediction23 = 0.0 ; actual23 = 70; m = 0 ; error = -70.0\n",
      "prediction24 = 0.0 ; actual24 = 85; m = 0 ; error = -85.0\n",
      "prediction25 = 0.0 ; actual25 = 70; m = 0 ; error = -70.0\n",
      "prediction26 = 0.0 ; actual26 = 80; m = 0 ; error = -80.0\n",
      "prediction27 = 0.0 ; actual27 = 50; m = 0 ; error = -50.0\n",
      "prediction28 = 0.0 ; actual28 = 55; m = 0 ; error = -55.0\n",
      "prediction29 = 0.0 ; actual29 = 70; m = 0 ; error = -70.0\n",
      "prediction30 = 0.0 ; actual30 = 50; m = 0 ; error = -50.0\n"
     ]
    }
   ],
   "source": [
    "m = 0                    # Don't insert m = 0, at this place\n",
    "c = 0\n",
    "gradient_desc(x,y,m,c)   # Here is just random input of m & b"
   ]
  },
  {
   "cell_type": "markdown",
   "metadata": {},
   "source": [
    "***\n",
    "***"
   ]
  },
  {
   "cell_type": "markdown",
   "metadata": {},
   "source": [
    "[Back to Top](#start)"
   ]
  },
  {
   "cell_type": "markdown",
   "metadata": {},
   "source": [
    "#### <font color = \"navy\" >1.5) Constant incriment delta_m = 1 always </font> <a id=\"ref_1.5\"></a>"
   ]
  },
  {
   "cell_type": "code",
   "execution_count": 8,
   "metadata": {},
   "outputs": [],
   "source": [
    "def gradient_desc(x,y_actual,m,c):\n",
    "    # step-1: start with random value sof m & b--> calculate the error\n",
    "    #         By using current m and b, make some prediction (say straight line) and also calculate the error\n",
    "    # -----------------------------------------------------------------------------------------------\n",
    "    \n",
    "    y_pred = [0] * len(x)\n",
    "    local_error  = [0] * len(x)\n",
    "    \n",
    "    for i in range(len(x)):\n",
    "        y_pred[i] = x[i]*m + c\n",
    "        \n",
    "        local_error[i]  = y_pred[i] - y_actual[i]  # don't use abs(), as we also need direction\n",
    "        \n",
    "        print(f\"prediction{i} = {y_pred[i]} ; actual{i} = {y_actual[i]};;; m = {m} ; c = {c}  ;  loc_error = {local_error[i]}\")\n",
    "        \n",
    "        delta_m = 1\n",
    "        delta_c = 1\n",
    "        \n",
    "        m = m + delta_m\n",
    "        c = c + delta_c\n",
    "    "
   ]
  },
  {
   "cell_type": "code",
   "execution_count": 9,
   "metadata": {
    "collapsed": true
   },
   "outputs": [
    {
     "name": "stdout",
     "output_type": "stream",
     "text": [
      "prediction0 = 0.0 ; actual0 = 18;;; m = 0 ; c = 0  ;  loc_error = -18.0\n",
      "prediction1 = 6.0 ; actual1 = 45;;; m = 1 ; c = 1  ;  loc_error = -39.0\n",
      "prediction2 = 8.4 ; actual2 = 25;;; m = 2 ; c = 2  ;  loc_error = -16.6\n",
      "prediction3 = 28.5 ; actual3 = 72;;; m = 3 ; c = 3  ;  loc_error = -43.5\n",
      "prediction4 = 18.0 ; actual4 = 30;;; m = 4 ; c = 4  ;  loc_error = -12.0\n",
      "prediction5 = 12.5 ; actual5 = 20;;; m = 5 ; c = 5  ;  loc_error = -7.5\n",
      "prediction6 = 61.199999999999996 ; actual6 = 88;;; m = 6 ; c = 6  ;  loc_error = -26.800000000000004\n",
      "prediction7 = 45.5 ; actual7 = 60;;; m = 7 ; c = 7  ;  loc_error = -14.5\n",
      "prediction8 = 74.4 ; actual8 = 81;;; m = 8 ; c = 8  ;  loc_error = -6.599999999999994\n",
      "prediction9 = 33.3 ; actual9 = 25;;; m = 9 ; c = 9  ;  loc_error = 8.299999999999997\n",
      "prediction10 = 87.0 ; actual10 = 85;;; m = 10 ; c = 10  ;  loc_error = 2.0\n",
      "prediction11 = 75.9 ; actual11 = 62;;; m = 11 ; c = 11  ;  loc_error = 13.900000000000006\n",
      "prediction12 = 66.0 ; actual12 = 41;;; m = 12 ; c = 12  ;  loc_error = 25.0\n",
      "prediction13 = 57.199999999999996 ; actual13 = 44;;; m = 13 ; c = 13  ;  loc_error = 13.199999999999996\n",
      "prediction14 = 29.400000000000002 ; actual14 = 17;;; m = 14 ; c = 14  ;  loc_error = 12.400000000000002\n",
      "prediction15 = 148.5 ; actual15 = 95;;; m = 15 ; c = 15  ;  loc_error = 53.5\n",
      "prediction16 = 56.0 ; actual16 = 30;;; m = 16 ; c = 16  ;  loc_error = 26.0\n",
      "prediction17 = 49.3 ; actual17 = 24;;; m = 17 ; c = 17  ;  loc_error = 25.299999999999997\n",
      "prediction18 = 127.8 ; actual18 = 67;;; m = 18 ; c = 18  ;  loc_error = 60.8\n",
      "prediction19 = 159.6 ; actual19 = 69;;; m = 19 ; c = 19  ;  loc_error = 90.6\n",
      "prediction20 = 74.0 ; actual20 = 30;;; m = 20 ; c = 20  ;  loc_error = 44.0\n",
      "prediction21 = 121.8 ; actual21 = 54;;; m = 21 ; c = 21  ;  loc_error = 67.8\n",
      "prediction22 = 103.4 ; actual22 = 33;;; m = 22 ; c = 22  ;  loc_error = 70.4\n",
      "prediction23 = 179.4 ; actual23 = 70;;; m = 23 ; c = 23  ;  loc_error = 109.4\n",
      "prediction24 = 201.60000000000002 ; actual24 = 85;;; m = 24 ; c = 24  ;  loc_error = 116.60000000000002\n",
      "prediction25 = 82.5 ; actual25 = 70;;; m = 25 ; c = 25  ;  loc_error = 12.5\n",
      "prediction26 = 153.4 ; actual26 = 80;;; m = 26 ; c = 26  ;  loc_error = 73.4\n",
      "prediction27 = 164.7 ; actual27 = 50;;; m = 27 ; c = 27  ;  loc_error = 114.69999999999999\n",
      "prediction28 = 123.2 ; actual28 = 55;;; m = 28 ; c = 28  ;  loc_error = 68.2\n",
      "prediction29 = 89.9 ; actual29 = 70;;; m = 29 ; c = 29  ;  loc_error = 19.900000000000006\n",
      "prediction30 = 63.0 ; actual30 = 50;;; m = 30 ; c = 30  ;  loc_error = 13.0\n"
     ]
    }
   ],
   "source": [
    "m = 0\n",
    "c = 0\n",
    "gradient_desc(x,y,m,c)   # Here is just random input of m & b"
   ]
  },
  {
   "cell_type": "code",
   "execution_count": 10,
   "metadata": {},
   "outputs": [],
   "source": [
    "# I want ... delta_m & c ==> based on the error... \n",
    "# such that it depends on the error.. and reduce systematically"
   ]
  },
  {
   "cell_type": "code",
   "execution_count": 11,
   "metadata": {},
   "outputs": [],
   "source": [
    "# This is simple error ... with mean squre error... 1/n[\\Sum{i,n} (y_hat - y)^2] ... its a quadratic\n",
    "# Now the whole idea is how to move along this cure...\n",
    "# Also called cost function"
   ]
  },
  {
   "cell_type": "code",
   "execution_count": 12,
   "metadata": {},
   "outputs": [],
   "source": [
    "# if the slope is +ve go towards negative direction and vice versa\n",
    "# m = m + delata_m (-1)\n",
    "# c = c + delta_c (-1)"
   ]
  },
  {
   "cell_type": "markdown",
   "metadata": {},
   "source": [
    "***\n",
    "***"
   ]
  },
  {
   "cell_type": "markdown",
   "metadata": {},
   "source": [
    "[Back to Top](#start)"
   ]
  },
  {
   "cell_type": "markdown",
   "metadata": {},
   "source": [
    "#### <font color = \"navy\" >1.6) Desent Gradient without learning_rate </font> <a id=\"ref_1.6\"></a>"
   ]
  },
  {
   "cell_type": "code",
   "execution_count": 13,
   "metadata": {},
   "outputs": [],
   "source": [
    "def gradient_desc(x,y_actual,m,c):\n",
    "    # step-1: start with random value sof m & b--> calculate the error\n",
    "    #         By using current m and b, make some prediction (say straight line) and also calculate the error\n",
    "    # -----------------------------------------------------------------------------------------------\n",
    "    \n",
    "    y_pred = [0] * len(x)\n",
    "    local_error  = [0] * len(x)\n",
    "    \n",
    "    for i in range(len(x)):\n",
    "        y_pred[i] = x[i]*m + c\n",
    "        \n",
    "        local_error[i]  = y_pred[i] - y_actual[i]  # don't use abs(), as we also need direction\n",
    "        \n",
    "\n",
    "\n",
    "        print(f\"prediction{i} = {y_pred[i]}\")\n",
    "        print(f\"actual{i} = {y_actual[i]}\")\n",
    "        print(f\"m{i} = {m}\")\n",
    "        print(f\"c{i} = {c}\")\n",
    "        print(f\"loc_error{i} = {local_error[i]}\")     \n",
    "\n",
    "        delta_m = local_error[i] * x[i] #* (0.001)\n",
    "        delta_c = local_error[i]        #* (0.001)\n",
    "        \n",
    "        print(\"-------------------\")\n",
    "        print(f\"delta_m{i} = (-){delta_m}\")\n",
    "        print(f\"delta_c{i} = (-){delta_c}\")\n",
    "        print(\"==============================================\") \n",
    "        m = m + delta_m * (-1)\n",
    "        c = c + delta_c * (-1)\n",
    "        "
   ]
  },
  {
   "cell_type": "code",
   "execution_count": 14,
   "metadata": {
    "collapsed": true
   },
   "outputs": [
    {
     "name": "stdout",
     "output_type": "stream",
     "text": [
      "prediction0 = 0.0\n",
      "actual0 = 18\n",
      "m0 = 0\n",
      "c0 = 0\n",
      "loc_error0 = -18.0\n",
      "-------------------\n",
      "delta_m0 = (-)-41.4\n",
      "delta_c0 = (-)-18.0\n",
      "==============================================\n",
      "prediction1 = 225.0\n",
      "actual1 = 45\n",
      "m1 = 41.4\n",
      "c1 = 18.0\n",
      "loc_error1 = 180.0\n",
      "-------------------\n",
      "delta_m1 = (-)900.0\n",
      "delta_c1 = (-)180.0\n",
      "==============================================\n",
      "prediction2 = -2909.5200000000004\n",
      "actual2 = 25\n",
      "m2 = -858.6\n",
      "c2 = -162.0\n",
      "loc_error2 = -2934.5200000000004\n",
      "-------------------\n",
      "delta_m2 = (-)-9390.464000000002\n",
      "delta_c2 = (-)-2934.5200000000004\n",
      "==============================================\n",
      "prediction3 = 75293.36400000002\n",
      "actual3 = 72\n",
      "m3 = 8531.864000000001\n",
      "c3 = 2772.5200000000004\n",
      "loc_error3 = 75221.36400000002\n",
      "-------------------\n",
      "delta_m3 = (-)639381.5940000002\n",
      "delta_c3 = (-)75221.36400000002\n",
      "==============================================\n",
      "prediction4 = -2280422.8990000007\n",
      "actual4 = 30\n",
      "m4 = -630849.7300000002\n",
      "c4 = -72448.84400000001\n",
      "loc_error4 = -2280452.8990000007\n",
      "-------------------\n",
      "delta_m4 = (-)-7981585.146500003\n",
      "delta_c4 = (-)-2280452.8990000007\n",
      "==============================================\n",
      "prediction5 = 13234107.179750003\n",
      "actual5 = 20\n",
      "m5 = 7350735.416500002\n",
      "c5 = 2208004.0550000006\n",
      "loc_error5 = 13234087.179750003\n",
      "-------------------\n",
      "delta_m5 = (-)19851130.769625004\n",
      "delta_c5 = (-)13234087.179750003\n",
      "==============================================\n",
      "prediction6 = -126029720.37350002\n",
      "actual6 = 88\n",
      "m6 = -12500395.353125002\n",
      "c6 = -11026083.124750003\n",
      "loc_error6 = -126029808.37350002\n",
      "-------------------\n",
      "delta_m6 = (-)-1159474237.0362\n",
      "delta_c6 = (-)-126029808.37350002\n",
      "==============================================\n",
      "prediction7 = 6423359854.505662\n",
      "actual7 = 60\n",
      "m7 = 1146973841.683075\n",
      "c7 = 115003725.24875002\n",
      "loc_error7 = 6423359794.505662\n",
      "-------------------\n",
      "delta_m7 = (-)35328478869.78114\n",
      "delta_c7 = (-)6423359794.505662\n",
      "==============================================\n",
      "prediction8 = -290014847802.4709\n",
      "actual8 = 81\n",
      "m8 = -34181505028.09807\n",
      "c8 = -6308356069.256912\n",
      "loc_error8 = -290014847883.4709\n",
      "-------------------\n",
      "delta_m8 = (-)-2407123237432.8086\n",
      "delta_c8 = (-)-290014847883.4709\n",
      "==============================================\n",
      "prediction9 = 6690649169306.933\n",
      "actual9 = 25\n",
      "m9 = 2372941732404.7104\n",
      "c9 = 283706491814.214\n",
      "loc_error9 = 6690649169281.933\n",
      "-------------------\n",
      "delta_m9 = (-)18064752757061.22\n",
      "delta_c9 = (-)6690649169281.933\n",
      "==============================================\n",
      "prediction10 = -127233887567322.83\n",
      "actual10 = 85\n",
      "m10 = -15691811024656.508\n",
      "c10 = -6406942677467.719\n",
      "loc_error10 = -127233887567407.83\n",
      "-------------------\n",
      "delta_m10 = (-)-979700934269040.2\n",
      "delta_c10 = (-)-127233887567407.83\n",
      "==============================================\n",
      "prediction11 = 5808480772031804.0\n",
      "actual11 = 62\n",
      "m11 = 964009123244383.8\n",
      "c11 = 120826944889940.11\n",
      "loc_error11 = 5808480772031742.0\n",
      "-------------------\n",
      "delta_m11 = (-)3.427003655498728e+16\n",
      "delta_c11 = (-)5808480772031742.0\n",
      "==============================================\n",
      "prediction12 = -1.5556477726998483e+17\n",
      "actual12 = 41\n",
      "m12 = -3.3306027431742896e+16\n",
      "c12 = -5687653827141802.0\n",
      "loc_error12 = -1.5556477726998486e+17\n",
      "-------------------\n",
      "delta_m12 = (-)-7.000414977149318e+17\n",
      "delta_c12 = (-)-1.5556477726998486e+17\n",
      "==============================================\n",
      "prediction13 = 2.416777722405686e+18\n",
      "actual13 = 44\n",
      "m13 = 6.66735470283189e+17\n",
      "c13 = 1.4987712344284307e+17\n",
      "loc_error13 = 2.416777722405686e+18\n",
      "-------------------\n",
      "delta_m13 = (-)8.217044256179331e+18\n",
      "delta_c13 = (-)2.416777722405686e+18\n",
      "==============================================\n",
      "prediction14 = -1.05722402634486e+19\n",
      "actual14 = 17\n",
      "m14 = -7.550308785896142e+18\n",
      "c14 = -2.2669005989628426e+18\n",
      "loc_error14 = -1.05722402634486e+19\n",
      "-------------------\n",
      "delta_m14 = (-)-1.1629464289793462e+19\n",
      "delta_c14 = (-)-1.05722402634486e+19\n",
      "==============================================\n",
      "prediction15 = 4.4609823649171915e+19\n",
      "actual15 = 95\n",
      "m15 = 4.0791555038973204e+18\n",
      "c15 = 8.305339664485758e+18\n",
      "loc_error15 = 4.4609823649171915e+19\n",
      "-------------------\n",
      "delta_m15 = (-)3.970274304776301e+20\n",
      "delta_c15 = (-)4.4609823649171915e+19\n",
      "==============================================\n",
      "prediction16 = -1.0186751714190181e+21\n",
      "actual16 = 30\n",
      "m16 = -3.9294827497373277e+20\n",
      "c16 = -3.6304483984686158e+19\n",
      "loc_error16 = -1.0186751714190181e+21\n",
      "-------------------\n",
      "delta_m16 = (-)-2.546687928547545e+21\n",
      "delta_c16 = (-)-1.0186751714190181e+21\n",
      "==============================================\n",
      "prediction17 = 5.074476029224576e+21\n",
      "actual17 = 24\n",
      "m17 = 2.1537396535738124e+21\n",
      "c17 = 9.823706874343319e+20\n",
      "loc_error17 = 5.074476029224576e+21\n",
      "-------------------\n",
      "delta_m17 = (-)9.641504455526692e+21\n",
      "delta_c17 = (-)5.074476029224576e+21\n",
      "==============================================\n",
      "prediction18 = -4.976747063370281e+22\n",
      "actual18 = 67\n",
      "m18 = -7.48776480195288e+21\n",
      "c18 = -4.0921053417902435e+21\n",
      "loc_error18 = -4.976747063370281e+22\n",
      "-------------------\n",
      "delta_m18 = (-)-3.035815708655871e+23\n",
      "delta_c18 = (-)-4.976747063370281e+22\n",
      "==============================================\n",
      "prediction19 = 2.236769530162806e+24\n",
      "actual19 = 69\n",
      "m19 = 2.9609380606363425e+23\n",
      "c19 = 4.567536529191256e+22\n",
      "loc_error19 = 2.236769530162806e+24\n",
      "-------------------\n",
      "delta_m19 = (-)1.6552094523204766e+25\n",
      "delta_c19 = (-)2.236769530162806e+24\n",
      "==============================================\n",
      "prediction20 = -4.608229610115195e+25\n",
      "actual20 = 30\n",
      "m20 = -1.6256000717141132e+25\n",
      "c20 = -2.1910941648708935e+24\n",
      "loc_error20 = -4.608229610115195e+25\n",
      "-------------------\n",
      "delta_m20 = (-)-1.2442219947311028e+26\n",
      "delta_c20 = (-)-4.608229610115195e+25\n",
      "==============================================\n",
      "prediction21 = 5.630889559649329e+26\n",
      "actual21 = 54\n",
      "m21 = 1.0816619875596914e+26\n",
      "c21 = 4.389120193628106e+25\n",
      "loc_error21 = 5.630889559649329e+26\n",
      "-------------------\n",
      "delta_m21 = (-)2.702826988631678e+27\n",
      "delta_c21 = (-)5.630889559649329e+26\n",
      "==============================================\n",
      "prediction22 = -1.0119442676568774e+28\n",
      "actual22 = 33\n",
      "m22 = -2.5946607898757086e+27\n",
      "c22 = -5.1919775402865186e+26\n",
      "loc_error22 = -1.0119442676568774e+28\n",
      "-------------------\n",
      "delta_m22 = (-)-3.7441937903304465e+28\n",
      "delta_c22 = (-)-1.0119442676568774e+28\n",
      "==============================================\n",
      "prediction23 = 2.4656172929385565e+29\n",
      "actual23 = 70\n",
      "m23 = 3.4847277113428754e+28\n",
      "c23 = 9.600244922540122e+27\n",
      "loc_error23 = 2.4656172929385565e+29\n",
      "-------------------\n",
      "delta_m23 = (-)1.6766197591982183e+30\n",
      "delta_c23 = (-)2.4656172929385565e+29\n",
      "==============================================\n",
      "prediction24 = -1.2386077851798757e+31\n",
      "actual24 = 85\n",
      "m24 = -1.6417724820847895e+30\n",
      "c24 = -2.369614843713155e+29\n",
      "loc_error24 = -1.2386077851798757e+31\n",
      "-------------------\n",
      "delta_m24 = (-)-9.16569761033108e+31\n",
      "delta_c24 = (-)-1.2386077851798757e+31\n",
      "==============================================\n",
      "prediction25 = 2.1918408469624726e+32\n",
      "actual25 = 70\n",
      "m25 = 9.001520362122602e+31\n",
      "c25 = 1.2149116367427443e+31\n",
      "loc_error25 = 2.1918408469624726e+32\n",
      "-------------------\n",
      "delta_m25 = (-)5.041233948013687e+32\n",
      "delta_c25 = (-)2.1918408469624726e+32\n",
      "==============================================\n",
      "prediction26 = -2.236165105111519e+33\n",
      "actual26 = 80\n",
      "m26 = -4.1410819118014266e+32\n",
      "c26 = -2.0703496832881983e+32\n",
      "loc_error26 = -2.236165105111519e+33\n",
      "-------------------\n",
      "delta_m26 = (-)-1.0957209015046445e+34\n",
      "delta_c26 = (-)-2.236165105111519e+33\n",
      "==============================================\n",
      "prediction27 = 5.579894433850084e+34\n",
      "actual27 = 50\n",
      "m27 = 1.0543100823866303e+34\n",
      "c27 = 2.0291301367826992e+33\n",
      "loc_error27 = 5.579894433850084e+34\n",
      "-------------------\n",
      "delta_m27 = (-)2.8457461612635427e+35\n",
      "delta_c27 = (-)5.579894433850084e+34\n",
      "==============================================\n",
      "prediction28 = -9.854769662301772e+35\n",
      "actual28 = 55\n",
      "m28 = -2.7403151530248796e+35\n",
      "c28 = -5.376981420171814e+34\n",
      "loc_error28 = -9.854769662301772e+35\n",
      "-------------------\n",
      "delta_m28 = (-)-3.350621685182603e+36\n",
      "delta_c28 = (-)-9.854769662301772e+35\n",
      "==============================================\n",
      "prediction29 = 7.392546508776699e+36\n",
      "actual29 = 70\n",
      "m29 = 3.0765901698801146e+36\n",
      "c29 = 9.31707152028459e+35\n",
      "loc_error29 = 7.392546508776699e+36\n",
      "-------------------\n",
      "delta_m29 = (-)1.552434766843107e+37\n",
      "delta_c29 = (-)7.392546508776699e+36\n",
      "==============================================\n",
      "prediction30 = -2.015337260515429e+37\n",
      "actual30 = 50\n",
      "m30 = -1.2447757498550954e+37\n",
      "c30 = -6.46083935674824e+36\n",
      "loc_error30 = -2.015337260515429e+37\n",
      "-------------------\n",
      "delta_m30 = (-)-2.216870986566972e+37\n",
      "delta_c30 = (-)-2.015337260515429e+37\n",
      "==============================================\n"
     ]
    }
   ],
   "source": [
    "m = 0\n",
    "c = 0\n",
    "gradient_desc(x,y,m,c)   # Here is just random input of m & b"
   ]
  },
  {
   "cell_type": "markdown",
   "metadata": {},
   "source": [
    "[Back to Top](#start)"
   ]
  },
  {
   "cell_type": "markdown",
   "metadata": {},
   "source": [
    "#### <font color = \"navy\" >1.7) Desent Gradient with learning_rate and 1 major Iteration </font> <a id=\"ref_1.7\"></a>"
   ]
  },
  {
   "cell_type": "code",
   "execution_count": 15,
   "metadata": {},
   "outputs": [],
   "source": [
    "def gradient_desc(x,y_actual,m,c):\n",
    "    # step-1: start with random value sof m & b--> calculate the error\n",
    "    #         By using current m and b, make some prediction (say straight line) and also calculate the error\n",
    "    # -----------------------------------------------------------------------------------------------\n",
    "    \n",
    "    y_pred = [0] * len(x)\n",
    "\n",
    "    \n",
    "    for i in range(len(x)):\n",
    "        y_pred[i] = x[i]*m + c\n",
    "        \n",
    "        error  = y_pred[i] - y_actual[i]  # don't use abs(), as we also need direction\n",
    "             \n",
    "\n",
    "        delta_m = error * x[i] * (0.001)\n",
    "        delta_c = error        * (0.001)\n",
    "        \n",
    "        \n",
    "        m = m + delta_m * (-1)\n",
    "        c = c + delta_c * (-1)\n",
    "#         print(error)\n",
    "        \n",
    "    return m,c,error\n",
    "        \n",
    "    \n",
    "        \n",
    "        "
   ]
  },
  {
   "cell_type": "code",
   "execution_count": 16,
   "metadata": {},
   "outputs": [],
   "source": [
    "m = 0\n",
    "c = 0\n",
    "m,c,error = gradient_desc(x,y,m,c)   # Here is just random input of m & b\n"
   ]
  },
  {
   "cell_type": "code",
   "execution_count": 17,
   "metadata": {},
   "outputs": [
    {
     "name": "stdout",
     "output_type": "stream",
     "text": [
      "m=>6.314013261747669; c=>1.1584138663581236; error=>-41.98896716315\n"
     ]
    }
   ],
   "source": [
    "print(f\"m=>{m}; c=>{c}; error=>{error}\")"
   ]
  },
  {
   "cell_type": "code",
   "execution_count": null,
   "metadata": {},
   "outputs": [],
   "source": []
  },
  {
   "cell_type": "markdown",
   "metadata": {},
   "source": [
    "***\n",
    "***\n"
   ]
  },
  {
   "cell_type": "markdown",
   "metadata": {},
   "source": [
    "[Back to Top](#start)"
   ]
  },
  {
   "cell_type": "markdown",
   "metadata": {},
   "source": [
    "#### <font color = \"navy\" >1.8) Desent Gradient with learning_rate and 1 major Iteration </font> <a id=\"ref_1.8\"></a>"
   ]
  },
  {
   "cell_type": "code",
   "execution_count": 18,
   "metadata": {},
   "outputs": [],
   "source": [
    "# Helper function when needed\n",
    "def plot_regression_line(X,m,c):\n",
    "    regression_y = []\n",
    "    for x in X.values:\n",
    "        y = m*x + c\n",
    "        regression_y.append(y)\n",
    "        \n",
    "        \n",
    "    return regression_y\n",
    "    "
   ]
  },
  {
   "cell_type": "code",
   "execution_count": 19,
   "metadata": {},
   "outputs": [],
   "source": [
    "def gradient_desc(x,y_actual,m,c):\n",
    "    # step-1: start with random value sof m & b--> calculate the error\n",
    "    #         By using current m and b, make some prediction (say straight line) and also calculate the error\n",
    "    # -----------------------------------------------------------------------------------------------\n",
    "    \n",
    "    y_pred = [0] * len(x)\n",
    "\n",
    "    \n",
    "    for i in range(len(x)):\n",
    "        y_pred[i] = x[i]*m + c\n",
    "        \n",
    "        error  = y_pred[i] - y_actual[i]  # don't use abs(), as we also need direction\n",
    "             \n",
    "\n",
    "        delta_m = error * x[i] * (0.001)\n",
    "        delta_c = error        * (0.001)\n",
    "        \n",
    "        \n",
    "        m = m + delta_m * (-1)\n",
    "        c = c + delta_c * (-1)\n",
    "        \n",
    "    return m,c,error\n",
    "        \n",
    "    \n",
    "        \n",
    "        "
   ]
  },
  {
   "cell_type": "code",
   "execution_count": 20,
   "metadata": {
    "scrolled": false
   },
   "outputs": [
    {
     "data": {
      "text/plain": [
       "<matplotlib.collections.PathCollection at 0x1184ff668>"
      ]
     },
     "execution_count": 20,
     "metadata": {},
     "output_type": "execute_result"
    },
    {
     "data": {
      "image/png": "[encoded data removed]",
      "text/plain": [
       "<Figure size 576x432 with 1 Axes>"
      ]
     },
     "metadata": {
      "needs_background": "light"
     },
     "output_type": "display_data"
    }
   ],
   "source": [
    "fig, ax = plt.subplots(figsize = (8,6))\n",
    "\n",
    "ax.scatter(x, y,s = 80)\n",
    "\n",
    "ax.set_xlabel(\"Number of Hours\", size = 16, color = \"green\")\n",
    "ax.set_ylabel(\"Score\", size = 16, color = \"green\")\n",
    "ax.set_title(\"Hours Vs Scores\", size = 16, color = \"green\")\n",
    "\n",
    "\n",
    "m = 0\n",
    "c = 0\n",
    "\n",
    "m,c,error = gradient_desc(x,y,m,c)   # Here is just random input of m & b\n",
    "regression_line = plot_regression_line(x,m,c)\n",
    "ax.scatter(x, regression_line,s = 30)"
   ]
  },
  {
   "cell_type": "markdown",
   "metadata": {},
   "source": [
    "[Back to Top](#start)"
   ]
  },
  {
   "cell_type": "markdown",
   "metadata": {},
   "source": [
    "#### <font color = \"navy\" >1.8) Desent Gradient: Full Code </font> <a id=\"ref_1.8\"></a>"
   ]
  },
  {
   "cell_type": "code",
   "execution_count": 21,
   "metadata": {},
   "outputs": [],
   "source": [
    "# Helper function when needed\n",
    "# ---------------------------\n",
    "def plot_regression_line(X,m,c):\n",
    "    regression_y = []\n",
    "    for x in X.values:\n",
    "        y = m*x + c\n",
    "        regression_y.append(y)\n",
    "        \n",
    "        \n",
    "    return regression_y\n",
    "    "
   ]
  },
  {
   "cell_type": "code",
   "execution_count": 22,
   "metadata": {},
   "outputs": [],
   "source": [
    "# Gradient Desent Algo for n = 1\n",
    "# ------------------------------\n",
    "def gradient_desc(x,y_actual,m,c):\n",
    "    # step-1: start with random value sof m & b--> calculate the error\n",
    "    #         By using current m and b, make some prediction (say straight line) and also calculate the error\n",
    "    # -----------------------------------------------------------------------------------------------\n",
    "    \n",
    "    y_pred = [0] * len(x)\n",
    "\n",
    "    \n",
    "    for i in range(len(x)):\n",
    "        y_pred[i] = x[i]*m + c\n",
    "        \n",
    "        error  = y_pred[i] - y_actual[i]  #(J) =  don't use abs(), as we also need direction\n",
    "             \n",
    "\n",
    "        delta_m = error * x[i]  # (delta J/ delta w_1)\n",
    "        delta_c = error         # (delta J / delta w_0)\n",
    "        \n",
    "        \n",
    "        m = m + delta_m * (-1) * (0.0001)   # learning_rate\n",
    "        c = c + delta_c * (-1) * (0.0001)\n",
    "        \n",
    "    return m,c,error    # no use of error while returning, just for looking cost function"
   ]
  },
  {
   "cell_type": "code",
   "execution_count": 23,
   "metadata": {
    "scrolled": false
   },
   "outputs": [
    {
     "data": {
      "image/png": "[encoded data removed]",
      "text/plain": [
       "<Figure size 576x432 with 1 Axes>"
      ]
     },
     "metadata": {
      "needs_background": "light"
     },
     "output_type": "display_data"
    }
   ],
   "source": [
    "fig, ax = plt.subplots(figsize = (8,6))\n",
    "\n",
    "ax.scatter(x, y,s = 80)\n",
    "\n",
    "ax.set_xlabel(\"Number of Hours\", size = 16, color = \"green\")\n",
    "ax.set_ylabel(\"Score\", size = 16, color = \"green\")\n",
    "ax.set_title(\"Hours Vs Scores\", size = 20, color = \"maroon\")\n",
    "ax.grid()\n",
    "\n",
    "m = 0\n",
    "c = 0\n",
    "\n",
    "for i in range(30):\n",
    "    m,c,error = gradient_desc(x,y,m,c)   # Here is just random input of m & b\n",
    "    regression_line = plot_regression_line(x,m,c)\n",
    "    ax.plot(x, regression_line, linestyle = \"dotted\", color = \"red\", alpha = 0.70)"
   ]
  },
  {
   "cell_type": "markdown",
   "metadata": {},
   "source": [
    "[Back to Top](#start)"
   ]
  },
  {
   "cell_type": "markdown",
   "metadata": {},
   "source": [
    "### Ch.2 : Desent Gradient with multiple variable<a id=\"ch_2\"></a>"
   ]
  },
  {
   "cell_type": "code",
   "execution_count": 363,
   "metadata": {},
   "outputs": [],
   "source": [
    "%reset -f\n",
    "import pandas as pd\n",
    "import numpy as np\n",
    "import matplotlib.pyplot as plt"
   ]
  },
  {
   "cell_type": "markdown",
   "metadata": {},
   "source": [
    "#### <font color = \"marroon\" >Step-1: Initialize weights and bias; vectors  </font>"
   ]
  },
  {
   "cell_type": "code",
   "execution_count": 364,
   "metadata": {},
   "outputs": [],
   "source": [
    "def initiliaze_parameters(lenw):\n",
    "#     w = np.random.randn(1,lenw)\n",
    "    w = np.zeros((1,lenw))\n",
    "    b = 0\n",
    "    return w,b"
   ]
  },
  {
   "cell_type": "markdown",
   "metadata": {},
   "source": [
    "#### <font color = \"marroon\" >Step-2: Forward Propagation  </font>"
   ]
  },
  {
   "cell_type": "code",
   "execution_count": 365,
   "metadata": {},
   "outputs": [],
   "source": [
    "def forward_prop(X,w,b):\n",
    "    z = np.dot(w,X) + b\n",
    "    return z"
   ]
  },
  {
   "cell_type": "markdown",
   "metadata": {},
   "source": [
    "#### <font color = \"marroon\" >Step-3: Cost Function Calculation  </font>"
   ]
  },
  {
   "cell_type": "code",
   "execution_count": 366,
   "metadata": {},
   "outputs": [],
   "source": [
    "def cost_function(z,y):\n",
    "    m = y.shape[1]\n",
    "    J = (1/(2*m)) * np.sum(np.square(z-y))\n",
    "    return J"
   ]
  },
  {
   "cell_type": "markdown",
   "metadata": {},
   "source": [
    "#### <font color = \"marroon\" >Step-4: Backward Propagation  </font>"
   ]
  },
  {
   "cell_type": "code",
   "execution_count": 367,
   "metadata": {},
   "outputs": [],
   "source": [
    "def back_prop(X,y,z):\n",
    "    m = y.shape[1]\n",
    "    dz = (1/m) * (z-y)\n",
    "    dw = np.dot(dz, X.T)\n",
    "    db = np.sum(dz)\n",
    "    return dw,db"
   ]
  },
  {
   "cell_type": "markdown",
   "metadata": {},
   "source": [
    "#### <font color = \"marroon\" >Step-5: Update_Desent_Gradient  </font>"
   ]
  },
  {
   "cell_type": "code",
   "execution_count": 368,
   "metadata": {},
   "outputs": [],
   "source": [
    "def des_gra_update(w,b,dw,db,learning_rate):\n",
    "    w = w - learning_rate*dw\n",
    "    b = b - learning_rate*db\n",
    "#     print(w)\n",
    "    return w,b"
   ]
  },
  {
   "cell_type": "markdown",
   "metadata": {},
   "source": [
    "#### <font color = \"marroon\" >Step-6: Linear Regression, again and again   </font>"
   ]
  },
  {
   "cell_type": "code",
   "execution_count": 377,
   "metadata": {},
   "outputs": [],
   "source": [
    "def linear_reg(X_train,y_train,X_test,y_test, learning_rate, epochs):\n",
    "    lenw = X_train.shape[0]\n",
    "    w,b = initiliaze_parameters(lenw)\n",
    "    \n",
    "    costs_train = []\n",
    "    m_train = y_train.shape[1]\n",
    "    m_val = y_test.shape[1]\n",
    "    \n",
    "    for i in range(1,epochs+1):\n",
    "        z_train = forward_prop(X_train,w,b)\n",
    "        cost_train = cost_function(z_train,y_train)\n",
    "        dw,db = back_prop(X_train,y_train,z_train)\n",
    "        w,b = des_gra_update(w,b,dw,db,learning_rate )\n",
    "        \n",
    "        if i%10 ==0:\n",
    "            costs_train.append(cost_train)\n",
    "            \n",
    "#         MAE_train = (1/m_train) * np.sum(np.abs(z_train-y_train))    \n",
    "        \n",
    "        \n",
    "#         z_val = forward_prop(X_val,w,b)\n",
    "#         cost_val = cost_function(z_val,y_val)\n",
    "#         MAE_val = (1/m_val) * np.sum(np.abs(z_val-y_val))\n",
    "        \n",
    "        \n",
    "#         print(\"Epochs\" + str(i) + \"/\" + str(epochs) +\":  \")\n",
    "#         print(\"Traning cost\"  + str(cost_train) + \"  \" + \"Validation cost\" + str(cost_val)  )\n",
    "#         print(\"traning MAW\" + str(MAE_train)  + \"  \" + \"Validation MAE\" + str(MAE_val) )\n",
    "        \n",
    "        \n",
    "    plt.plot(costs_train)\n",
    "    plt.ylabel(\"Cost function minimization\")\n",
    "    plt.xlabel(\"Iteration (per tens)\")\n",
    "    plt.ylabel(\"Cost function\")\n",
    "    plt.grid()\n",
    "    plt.show()\n",
    "                   "
   ]
  },
  {
   "cell_type": "markdown",
   "metadata": {},
   "source": [
    "#### <font color = \"marroon\" >Step-7 or so: Data Preparation for algo   </font>"
   ]
  },
  {
   "cell_type": "code",
   "execution_count": 370,
   "metadata": {},
   "outputs": [],
   "source": [
    "from sklearn.datasets import load_boston"
   ]
  },
  {
   "cell_type": "code",
   "execution_count": 371,
   "metadata": {},
   "outputs": [
    {
     "data": {
      "text/html": [
       "<div>\n",
       "<style scoped>\n",
       "    .dataframe tbody tr th:only-of-type {\n",
       "        vertical-align: middle;\n",
       "    }\n",
       "\n",
       "    .dataframe tbody tr th {\n",
       "        vertical-align: top;\n",
       "    }\n",
       "\n",
       "    .dataframe thead th {\n",
       "        text-align: right;\n",
       "    }\n",
       "</style>\n",
       "<table border=\"1\" class=\"dataframe\">\n",
       "  <thead>\n",
       "    <tr style=\"text-align: right;\">\n",
       "      <th></th>\n",
       "      <th>CRIM</th>\n",
       "      <th>ZN</th>\n",
       "      <th>INDUS</th>\n",
       "      <th>CHAS</th>\n",
       "      <th>NOX</th>\n",
       "      <th>RM</th>\n",
       "      <th>AGE</th>\n",
       "      <th>DIS</th>\n",
       "      <th>RAD</th>\n",
       "      <th>TAX</th>\n",
       "      <th>PTRATIO</th>\n",
       "      <th>B</th>\n",
       "      <th>LSTAT</th>\n",
       "    </tr>\n",
       "  </thead>\n",
       "  <tbody>\n",
       "    <tr>\n",
       "      <th>0</th>\n",
       "      <td>0.00632</td>\n",
       "      <td>18.0</td>\n",
       "      <td>2.31</td>\n",
       "      <td>0.0</td>\n",
       "      <td>0.538</td>\n",
       "      <td>6.575</td>\n",
       "      <td>65.2</td>\n",
       "      <td>4.0900</td>\n",
       "      <td>1.0</td>\n",
       "      <td>296.0</td>\n",
       "      <td>15.3</td>\n",
       "      <td>396.90</td>\n",
       "      <td>4.98</td>\n",
       "    </tr>\n",
       "    <tr>\n",
       "      <th>1</th>\n",
       "      <td>0.02731</td>\n",
       "      <td>0.0</td>\n",
       "      <td>7.07</td>\n",
       "      <td>0.0</td>\n",
       "      <td>0.469</td>\n",
       "      <td>6.421</td>\n",
       "      <td>78.9</td>\n",
       "      <td>4.9671</td>\n",
       "      <td>2.0</td>\n",
       "      <td>242.0</td>\n",
       "      <td>17.8</td>\n",
       "      <td>396.90</td>\n",
       "      <td>9.14</td>\n",
       "    </tr>\n",
       "    <tr>\n",
       "      <th>2</th>\n",
       "      <td>0.02729</td>\n",
       "      <td>0.0</td>\n",
       "      <td>7.07</td>\n",
       "      <td>0.0</td>\n",
       "      <td>0.469</td>\n",
       "      <td>7.185</td>\n",
       "      <td>61.1</td>\n",
       "      <td>4.9671</td>\n",
       "      <td>2.0</td>\n",
       "      <td>242.0</td>\n",
       "      <td>17.8</td>\n",
       "      <td>392.83</td>\n",
       "      <td>4.03</td>\n",
       "    </tr>\n",
       "    <tr>\n",
       "      <th>3</th>\n",
       "      <td>0.03237</td>\n",
       "      <td>0.0</td>\n",
       "      <td>2.18</td>\n",
       "      <td>0.0</td>\n",
       "      <td>0.458</td>\n",
       "      <td>6.998</td>\n",
       "      <td>45.8</td>\n",
       "      <td>6.0622</td>\n",
       "      <td>3.0</td>\n",
       "      <td>222.0</td>\n",
       "      <td>18.7</td>\n",
       "      <td>394.63</td>\n",
       "      <td>2.94</td>\n",
       "    </tr>\n",
       "    <tr>\n",
       "      <th>4</th>\n",
       "      <td>0.06905</td>\n",
       "      <td>0.0</td>\n",
       "      <td>2.18</td>\n",
       "      <td>0.0</td>\n",
       "      <td>0.458</td>\n",
       "      <td>7.147</td>\n",
       "      <td>54.2</td>\n",
       "      <td>6.0622</td>\n",
       "      <td>3.0</td>\n",
       "      <td>222.0</td>\n",
       "      <td>18.7</td>\n",
       "      <td>396.90</td>\n",
       "      <td>5.33</td>\n",
       "    </tr>\n",
       "  </tbody>\n",
       "</table>\n",
       "</div>"
      ],
      "text/plain": [
       "      CRIM    ZN  INDUS  CHAS    NOX     RM   AGE     DIS  RAD    TAX  \\\n",
       "0  0.00632  18.0   2.31   0.0  0.538  6.575  65.2  4.0900  1.0  296.0   \n",
       "1  0.02731   0.0   7.07   0.0  0.469  6.421  78.9  4.9671  2.0  242.0   \n",
       "2  0.02729   0.0   7.07   0.0  0.469  7.185  61.1  4.9671  2.0  242.0   \n",
       "3  0.03237   0.0   2.18   0.0  0.458  6.998  45.8  6.0622  3.0  222.0   \n",
       "4  0.06905   0.0   2.18   0.0  0.458  7.147  54.2  6.0622  3.0  222.0   \n",
       "\n",
       "   PTRATIO       B  LSTAT  \n",
       "0     15.3  396.90   4.98  \n",
       "1     17.8  396.90   9.14  \n",
       "2     17.8  392.83   4.03  \n",
       "3     18.7  394.63   2.94  \n",
       "4     18.7  396.90   5.33  "
      ]
     },
     "execution_count": 371,
     "metadata": {},
     "output_type": "execute_result"
    }
   ],
   "source": [
    "boston = load_boston()\n",
    "bost = pd.DataFrame(boston[\"data\"])\n",
    "bost.columns = boston[\"feature_names\"]\n",
    "bost.head()"
   ]
  },
  {
   "cell_type": "code",
   "execution_count": 372,
   "metadata": {},
   "outputs": [
    {
     "data": {
      "text/html": [
       "<div>\n",
       "<style scoped>\n",
       "    .dataframe tbody tr th:only-of-type {\n",
       "        vertical-align: middle;\n",
       "    }\n",
       "\n",
       "    .dataframe tbody tr th {\n",
       "        vertical-align: top;\n",
       "    }\n",
       "\n",
       "    .dataframe thead th {\n",
       "        text-align: right;\n",
       "    }\n",
       "</style>\n",
       "<table border=\"1\" class=\"dataframe\">\n",
       "  <thead>\n",
       "    <tr style=\"text-align: right;\">\n",
       "      <th></th>\n",
       "      <th>CRIM</th>\n",
       "      <th>ZN</th>\n",
       "      <th>INDUS</th>\n",
       "      <th>CHAS</th>\n",
       "      <th>NOX</th>\n",
       "      <th>RM</th>\n",
       "      <th>AGE</th>\n",
       "      <th>DIS</th>\n",
       "      <th>RAD</th>\n",
       "      <th>TAX</th>\n",
       "      <th>PTRATIO</th>\n",
       "      <th>B</th>\n",
       "      <th>LSTAT</th>\n",
       "    </tr>\n",
       "  </thead>\n",
       "  <tbody>\n",
       "    <tr>\n",
       "      <th>count</th>\n",
       "      <td>5.060000e+02</td>\n",
       "      <td>5.060000e+02</td>\n",
       "      <td>5.060000e+02</td>\n",
       "      <td>5.060000e+02</td>\n",
       "      <td>5.060000e+02</td>\n",
       "      <td>5.060000e+02</td>\n",
       "      <td>5.060000e+02</td>\n",
       "      <td>5.060000e+02</td>\n",
       "      <td>5.060000e+02</td>\n",
       "      <td>5.060000e+02</td>\n",
       "      <td>5.060000e+02</td>\n",
       "      <td>5.060000e+02</td>\n",
       "      <td>5.060000e+02</td>\n",
       "    </tr>\n",
       "    <tr>\n",
       "      <th>mean</th>\n",
       "      <td>-3.208896e-18</td>\n",
       "      <td>1.148072e-16</td>\n",
       "      <td>-6.812595e-16</td>\n",
       "      <td>-1.189760e-16</td>\n",
       "      <td>6.223338e-16</td>\n",
       "      <td>-1.521044e-15</td>\n",
       "      <td>-3.491388e-16</td>\n",
       "      <td>1.206490e-16</td>\n",
       "      <td>6.406821e-17</td>\n",
       "      <td>1.933017e-16</td>\n",
       "      <td>-2.300312e-15</td>\n",
       "      <td>1.881620e-15</td>\n",
       "      <td>-1.082797e-16</td>\n",
       "    </tr>\n",
       "    <tr>\n",
       "      <th>std</th>\n",
       "      <td>9.667929e-02</td>\n",
       "      <td>2.332245e-01</td>\n",
       "      <td>2.514792e-01</td>\n",
       "      <td>2.539940e-01</td>\n",
       "      <td>2.384314e-01</td>\n",
       "      <td>1.346268e-01</td>\n",
       "      <td>2.898956e-01</td>\n",
       "      <td>1.914822e-01</td>\n",
       "      <td>3.785765e-01</td>\n",
       "      <td>3.216357e-01</td>\n",
       "      <td>2.303134e-01</td>\n",
       "      <td>2.302054e-01</td>\n",
       "      <td>1.970492e-01</td>\n",
       "    </tr>\n",
       "    <tr>\n",
       "      <th>min</th>\n",
       "      <td>-4.054410e-02</td>\n",
       "      <td>-1.136364e-01</td>\n",
       "      <td>-3.913775e-01</td>\n",
       "      <td>-6.916996e-02</td>\n",
       "      <td>-3.491668e-01</td>\n",
       "      <td>-5.218690e-01</td>\n",
       "      <td>-6.763636e-01</td>\n",
       "      <td>-2.423813e-01</td>\n",
       "      <td>-3.717134e-01</td>\n",
       "      <td>-4.222083e-01</td>\n",
       "      <td>-6.229291e-01</td>\n",
       "      <td>-8.985678e-01</td>\n",
       "      <td>-3.014090e-01</td>\n",
       "    </tr>\n",
       "    <tr>\n",
       "      <th>25%</th>\n",
       "      <td>-3.969297e-02</td>\n",
       "      <td>-1.136364e-01</td>\n",
       "      <td>-2.179904e-01</td>\n",
       "      <td>-6.916996e-02</td>\n",
       "      <td>-2.174795e-01</td>\n",
       "      <td>-7.647718e-02</td>\n",
       "      <td>-2.425325e-01</td>\n",
       "      <td>-1.541223e-01</td>\n",
       "      <td>-2.412786e-01</td>\n",
       "      <td>-2.466358e-01</td>\n",
       "      <td>-1.122908e-01</td>\n",
       "      <td>4.716191e-02</td>\n",
       "      <td>-1.573693e-01</td>\n",
       "    </tr>\n",
       "    <tr>\n",
       "      <th>50%</th>\n",
       "      <td>-3.773202e-02</td>\n",
       "      <td>-1.136364e-01</td>\n",
       "      <td>-5.303441e-02</td>\n",
       "      <td>-6.916996e-02</td>\n",
       "      <td>-3.435197e-02</td>\n",
       "      <td>-1.458793e-02</td>\n",
       "      <td>9.191657e-02</td>\n",
       "      <td>-5.343258e-02</td>\n",
       "      <td>-1.978003e-01</td>\n",
       "      <td>-1.493075e-01</td>\n",
       "      <td>6.324111e-02</td>\n",
       "      <td>8.766445e-02</td>\n",
       "      <td>-3.568055e-02</td>\n",
       "    </tr>\n",
       "    <tr>\n",
       "      <th>75%</th>\n",
       "      <td>7.143872e-04</td>\n",
       "      <td>1.136364e-02</td>\n",
       "      <td>2.552500e-01</td>\n",
       "      <td>-6.916996e-02</td>\n",
       "      <td>1.426028e-01</td>\n",
       "      <td>6.492922e-02</td>\n",
       "      <td>2.626169e-01</td>\n",
       "      <td>1.267068e-01</td>\n",
       "      <td>6.282866e-01</td>\n",
       "      <td>4.919138e-01</td>\n",
       "      <td>1.855815e-01</td>\n",
       "      <td>9.973011e-02</td>\n",
       "      <td>1.187069e-01</td>\n",
       "    </tr>\n",
       "    <tr>\n",
       "      <th>max</th>\n",
       "      <td>9.594559e-01</td>\n",
       "      <td>8.863636e-01</td>\n",
       "      <td>6.086225e-01</td>\n",
       "      <td>9.308300e-01</td>\n",
       "      <td>6.508332e-01</td>\n",
       "      <td>4.781310e-01</td>\n",
       "      <td>3.236364e-01</td>\n",
       "      <td>7.576187e-01</td>\n",
       "      <td>6.282866e-01</td>\n",
       "      <td>5.777917e-01</td>\n",
       "      <td>3.770709e-01</td>\n",
       "      <td>1.014322e-01</td>\n",
       "      <td>6.985910e-01</td>\n",
       "    </tr>\n",
       "  </tbody>\n",
       "</table>\n",
       "</div>"
      ],
      "text/plain": [
       "               CRIM            ZN         INDUS          CHAS           NOX  \\\n",
       "count  5.060000e+02  5.060000e+02  5.060000e+02  5.060000e+02  5.060000e+02   \n",
       "mean  -3.208896e-18  1.148072e-16 -6.812595e-16 -1.189760e-16  6.223338e-16   \n",
       "std    9.667929e-02  2.332245e-01  2.514792e-01  2.539940e-01  2.384314e-01   \n",
       "min   -4.054410e-02 -1.136364e-01 -3.913775e-01 -6.916996e-02 -3.491668e-01   \n",
       "25%   -3.969297e-02 -1.136364e-01 -2.179904e-01 -6.916996e-02 -2.174795e-01   \n",
       "50%   -3.773202e-02 -1.136364e-01 -5.303441e-02 -6.916996e-02 -3.435197e-02   \n",
       "75%    7.143872e-04  1.136364e-02  2.552500e-01 -6.916996e-02  1.426028e-01   \n",
       "max    9.594559e-01  8.863636e-01  6.086225e-01  9.308300e-01  6.508332e-01   \n",
       "\n",
       "                 RM           AGE           DIS           RAD           TAX  \\\n",
       "count  5.060000e+02  5.060000e+02  5.060000e+02  5.060000e+02  5.060000e+02   \n",
       "mean  -1.521044e-15 -3.491388e-16  1.206490e-16  6.406821e-17  1.933017e-16   \n",
       "std    1.346268e-01  2.898956e-01  1.914822e-01  3.785765e-01  3.216357e-01   \n",
       "min   -5.218690e-01 -6.763636e-01 -2.423813e-01 -3.717134e-01 -4.222083e-01   \n",
       "25%   -7.647718e-02 -2.425325e-01 -1.541223e-01 -2.412786e-01 -2.466358e-01   \n",
       "50%   -1.458793e-02  9.191657e-02 -5.343258e-02 -1.978003e-01 -1.493075e-01   \n",
       "75%    6.492922e-02  2.626169e-01  1.267068e-01  6.282866e-01  4.919138e-01   \n",
       "max    4.781310e-01  3.236364e-01  7.576187e-01  6.282866e-01  5.777917e-01   \n",
       "\n",
       "            PTRATIO             B         LSTAT  \n",
       "count  5.060000e+02  5.060000e+02  5.060000e+02  \n",
       "mean  -2.300312e-15  1.881620e-15 -1.082797e-16  \n",
       "std    2.303134e-01  2.302054e-01  1.970492e-01  \n",
       "min   -6.229291e-01 -8.985678e-01 -3.014090e-01  \n",
       "25%   -1.122908e-01  4.716191e-02 -1.573693e-01  \n",
       "50%    6.324111e-02  8.766445e-02 -3.568055e-02  \n",
       "75%    1.855815e-01  9.973011e-02  1.187069e-01  \n",
       "max    3.770709e-01  1.014322e-01  6.985910e-01  "
      ]
     },
     "execution_count": 372,
     "metadata": {},
     "output_type": "execute_result"
    }
   ],
   "source": [
    "X = (bost - bost.mean())/( bost.max() - bost.min() )\n",
    "y = boston[\"target\"]\n",
    "X.describe()"
   ]
  },
  {
   "cell_type": "code",
   "execution_count": 373,
   "metadata": {},
   "outputs": [],
   "source": [
    "from sklearn.model_selection import train_test_split"
   ]
  },
  {
   "cell_type": "code",
   "execution_count": 374,
   "metadata": {},
   "outputs": [],
   "source": [
    "X_train, X_test , y_train, y_test = train_test_split(X,y,test_size = 0.33, random_state = 5 )"
   ]
  },
  {
   "cell_type": "code",
   "execution_count": 375,
   "metadata": {},
   "outputs": [],
   "source": [
    "X_train = X_train.T\n",
    "y_train = np.array([y_train])\n",
    "# -----------------------------\n",
    "X_test = X_test.T\n",
    "y_test = np.array([y_test])"
   ]
  },
  {
   "cell_type": "markdown",
   "metadata": {},
   "source": [
    "#### <font color = \"marroon\" >Step-8: Run the algo   </font>"
   ]
  },
  {
   "cell_type": "code",
   "execution_count": 381,
   "metadata": {},
   "outputs": [
    {
     "data": {
      "image/png": "[encoded data removed]",
      "text/plain": [
       "<Figure size 432x288 with 1 Axes>"
      ]
     },
     "metadata": {
      "needs_background": "light"
     },
     "output_type": "display_data"
    }
   ],
   "source": [
    "linear_reg(X_train,y_train,X_test,y_test, 0.40, 3000)"
   ]
  },
  {
   "cell_type": "markdown",
   "metadata": {},
   "source": [
    "[Back to Top](#start)"
   ]
  },
  {
   "cell_type": "code",
   "execution_count": 389,
   "metadata": {},
   "outputs": [],
   "source": [
    "from sklearn import linear_model"
   ]
  },
  {
   "cell_type": "code",
   "execution_count": 390,
   "metadata": {},
   "outputs": [],
   "source": [
    "linear_regggg = linear_model.LinearRegression()\n",
    "linear_regggg.fit(X_train.T,y_train.T)          # BECAUSE WE have tranposed the data for our model, earlier\n",
    "                                                # while directly applying this algo,---> no need to dod so\n",
    "y_pred = linear_regggg.predict(X_test.T)"
   ]
  },
  {
   "cell_type": "code",
   "execution_count": 391,
   "metadata": {},
   "outputs": [],
   "source": [
    "MAE_val_with_sklearn = (1/y_test.shape[1])* np.sum(np.abs(y_pred - y_test.T))"
   ]
  },
  {
   "cell_type": "code",
   "execution_count": 392,
   "metadata": {},
   "outputs": [
    {
     "data": {
      "text/plain": [
       "3.455034932248353"
      ]
     },
     "execution_count": 392,
     "metadata": {},
     "output_type": "execute_result"
    }
   ],
   "source": [
    "MAE_val_with_sklearn"
   ]
  },
  {
   "cell_type": "code",
   "execution_count": null,
   "metadata": {},
   "outputs": [],
   "source": []
  },
  {
   "cell_type": "code",
   "execution_count": null,
   "metadata": {},
   "outputs": [],
   "source": []
  }
 ],
 "metadata": {
  "kernelspec": {
   "display_name": "Python 3",
   "language": "python",
   "name": "python3"
  },
  "language_info": {
   "codemirror_mode": {
    "name": "ipython",
    "version": 3
   },
   "file_extension": ".py",
   "mimetype": "text/x-python",
   "name": "python",
   "nbconvert_exporter": "python",
   "pygments_lexer": "ipython3",
   "version": "3.6.10"
  }
 },
 "nbformat": 4,
 "nbformat_minor": 4
}
