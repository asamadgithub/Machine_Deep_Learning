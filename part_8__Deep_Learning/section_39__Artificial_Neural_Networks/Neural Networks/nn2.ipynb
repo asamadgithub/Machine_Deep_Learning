{
  "cells": [
    {
      "metadata": {
        "trusted": true
      },
      "cell_type": "code",
      "source": "import pandas as pd\nimport numpy as np\nimport matplotlib.pyplot as plt\nfrom sklearn.model_selection import train_test_split",
      "execution_count": 11,
      "outputs": []
    },
    {
      "metadata": {
        "trusted": true
      },
      "cell_type": "code",
      "source": "df = pd.read_csv(\"student_scores2.csv\")",
      "execution_count": 12,
      "outputs": []
    },
    {
      "metadata": {
        "trusted": true
      },
      "cell_type": "code",
      "source": "x = df.drop(['Scores','Pass'],axis=1).values\ny = df['Pass'].values.reshape(-1,1)     ### We were missing Reshape here!!\nx_train, x_test, y_train, y_test = train_test_split(x, y, test_size=0.2, random_state=42)\nx_train.shape,y_train.shape",
      "execution_count": 13,
      "outputs": [
        {
          "output_type": "execute_result",
          "execution_count": 13,
          "data": {
            "text/plain": "((24, 2), (24, 1))"
          },
          "metadata": {}
        }
      ]
    },
    {
      "metadata": {
        "trusted": true
      },
      "cell_type": "code",
      "source": "from sklearn.preprocessing import StandardScaler\nscaler = StandardScaler()\nscaler.fit(x_train)\nx_train = scaler.transform(x_train)\nx_test = scaler.transform(x_test)",
      "execution_count": 14,
      "outputs": []
    },
    {
      "metadata": {
        "trusted": true
      },
      "cell_type": "code",
      "source": "import tensorflow as tf\nfrom tensorflow import keras\nprint(tf.__version__)\n",
      "execution_count": 3,
      "outputs": [
        {
          "output_type": "stream",
          "text": "1.12.2\n",
          "name": "stdout"
        }
      ]
    },
    {
      "metadata": {
        "trusted": true
      },
      "cell_type": "code",
      "source": "model = keras.Sequential([\n    keras.layers.Dense(3, input_shape=(2,), activation=tf.nn.relu, name=\"hidden\"),\n    keras.layers.Dense(1, activation=tf.nn.sigmoid, name=\"output\")\n])\nmodel.compile(loss ='binary_crossentropy',optimizer ='adam', metrics =['accuracy'])\n#model.compile(loss ='mean_squared_error',optimizer ='sgd', metrics =['accuracy'])",
      "execution_count": 81,
      "outputs": []
    },
    {
      "metadata": {
        "trusted": true
      },
      "cell_type": "code",
      "source": "model.summary() ",
      "execution_count": 82,
      "outputs": [
        {
          "output_type": "stream",
          "text": "_________________________________________________________________\nLayer (type)                 Output Shape              Param #   \n=================================================================\nhidden (Dense)               (None, 3)                 9         \n_________________________________________________________________\noutput (Dense)               (None, 1)                 4         \n=================================================================\nTotal params: 13\nTrainable params: 13\nNon-trainable params: 0\n_________________________________________________________________\n",
          "name": "stdout"
        }
      ]
    },
    {
      "metadata": {
        "trusted": true
      },
      "cell_type": "code",
      "source": "model.fit(x_train, y_train, epochs = 100, batch_size = 1, verbose = 1) \n\n# Predicting the Value \ny_pred = model.predict(x_test) \nprint(y_pred) ",
      "execution_count": 83,
      "outputs": [
        {
          "output_type": "stream",
          "text": "Epoch 1/100\n24/24 [==============================] - 6s 261ms/step - loss: 0.2952 - acc: 0.6667\nEpoch 2/100\n24/24 [==============================] - 0s 9ms/step - loss: 0.2876 - acc: 0.6667\nEpoch 3/100\n24/24 [==============================] - 0s 12ms/step - loss: 0.2802 - acc: 0.6667\nEpoch 4/100\n24/24 [==============================] - 0s 9ms/step - loss: 0.2731 - acc: 0.6667\nEpoch 5/100\n24/24 [==============================] - 0s 10ms/step - loss: 0.2661 - acc: 0.6667\nEpoch 6/100\n24/24 [==============================] - 0s 9ms/step - loss: 0.2594 - acc: 0.6667\nEpoch 7/100\n24/24 [==============================] - 0s 9ms/step - loss: 0.2529 - acc: 0.6667\nEpoch 8/100\n24/24 [==============================] - 0s 8ms/step - loss: 0.2466 - acc: 0.6667\nEpoch 9/100\n24/24 [==============================] - 0s 9ms/step - loss: 0.2402 - acc: 0.6667\nEpoch 10/100\n24/24 [==============================] - 0s 9ms/step - loss: 0.2342 - acc: 0.6667\nEpoch 11/100\n24/24 [==============================] - 0s 8ms/step - loss: 0.2287 - acc: 0.6667\nEpoch 12/100\n24/24 [==============================] - 0s 9ms/step - loss: 0.2234 - acc: 0.6667\nEpoch 13/100\n24/24 [==============================] - 0s 9ms/step - loss: 0.2181 - acc: 0.6667\nEpoch 14/100\n24/24 [==============================] - 0s 8ms/step - loss: 0.2131 - acc: 0.6667\nEpoch 15/100\n24/24 [==============================] - 0s 8ms/step - loss: 0.2082 - acc: 0.6667\nEpoch 16/100\n24/24 [==============================] - 0s 8ms/step - loss: 0.2035 - acc: 0.6667\nEpoch 17/100\n24/24 [==============================] - 0s 9ms/step - loss: 0.1991 - acc: 0.6667\nEpoch 18/100\n24/24 [==============================] - 0s 10ms/step - loss: 0.1949 - acc: 0.6667\nEpoch 19/100\n24/24 [==============================] - 0s 9ms/step - loss: 0.1907 - acc: 0.6667\nEpoch 20/100\n24/24 [==============================] - 0s 10ms/step - loss: 0.1866 - acc: 0.6667\nEpoch 21/100\n24/24 [==============================] - 0s 11ms/step - loss: 0.1827 - acc: 0.6667\nEpoch 22/100\n24/24 [==============================] - 0s 8ms/step - loss: 0.1790 - acc: 0.6667\nEpoch 23/100\n24/24 [==============================] - 0s 9ms/step - loss: 0.1753 - acc: 0.6667\nEpoch 24/100\n24/24 [==============================] - 0s 7ms/step - loss: 0.1717 - acc: 0.6667\nEpoch 25/100\n24/24 [==============================] - 0s 11ms/step - loss: 0.1681 - acc: 0.7500\nEpoch 26/100\n24/24 [==============================] - 0s 8ms/step - loss: 0.1647 - acc: 0.7500\nEpoch 27/100\n24/24 [==============================] - 0s 8ms/step - loss: 0.1613 - acc: 0.7917\nEpoch 28/100\n24/24 [==============================] - 0s 12ms/step - loss: 0.1579 - acc: 0.7917\nEpoch 29/100\n24/24 [==============================] - 0s 8ms/step - loss: 0.1545 - acc: 0.8333\nEpoch 30/100\n24/24 [==============================] - 0s 6ms/step - loss: 0.1512 - acc: 0.8333\nEpoch 31/100\n24/24 [==============================] - 0s 9ms/step - loss: 0.1480 - acc: 0.8333\nEpoch 32/100\n24/24 [==============================] - 0s 8ms/step - loss: 0.1448 - acc: 0.8750\nEpoch 33/100\n24/24 [==============================] - 0s 10ms/step - loss: 0.1417 - acc: 0.8750\nEpoch 34/100\n24/24 [==============================] - 0s 8ms/step - loss: 0.1386 - acc: 0.9167\nEpoch 35/100\n24/24 [==============================] - 0s 7ms/step - loss: 0.1356 - acc: 0.9167\nEpoch 36/100\n24/24 [==============================] - 0s 8ms/step - loss: 0.1326 - acc: 0.9167\nEpoch 37/100\n24/24 [==============================] - 0s 10ms/step - loss: 0.1298 - acc: 0.9167\nEpoch 38/100\n24/24 [==============================] - 0s 7ms/step - loss: 0.1269 - acc: 0.9167\nEpoch 39/100\n24/24 [==============================] - 0s 11ms/step - loss: 0.1242 - acc: 0.9167\nEpoch 40/100\n24/24 [==============================] - 0s 9ms/step - loss: 0.1215 - acc: 0.9583\nEpoch 41/100\n24/24 [==============================] - 0s 10ms/step - loss: 0.1189 - acc: 0.9583\nEpoch 42/100\n24/24 [==============================] - 0s 10ms/step - loss: 0.1163 - acc: 0.9583\nEpoch 43/100\n24/24 [==============================] - 0s 10ms/step - loss: 0.1138 - acc: 0.9583\nEpoch 44/100\n24/24 [==============================] - 0s 11ms/step - loss: 0.1114 - acc: 0.9583\nEpoch 45/100\n24/24 [==============================] - 0s 10ms/step - loss: 0.1091 - acc: 0.9583\nEpoch 46/100\n24/24 [==============================] - 0s 9ms/step - loss: 0.1069 - acc: 0.9583\nEpoch 47/100\n24/24 [==============================] - 0s 8ms/step - loss: 0.1047 - acc: 0.9583\nEpoch 48/100\n24/24 [==============================] - 0s 9ms/step - loss: 0.1026 - acc: 0.9583\nEpoch 49/100\n24/24 [==============================] - 0s 10ms/step - loss: 0.1005 - acc: 0.9583\nEpoch 50/100\n24/24 [==============================] - 0s 9ms/step - loss: 0.0985 - acc: 0.9583\nEpoch 51/100\n24/24 [==============================] - 0s 9ms/step - loss: 0.0966 - acc: 0.9583\nEpoch 52/100\n24/24 [==============================] - 0s 10ms/step - loss: 0.0946 - acc: 0.9583\nEpoch 53/100\n24/24 [==============================] - 0s 9ms/step - loss: 0.0928 - acc: 0.9583\nEpoch 54/100\n24/24 [==============================] - 0s 11ms/step - loss: 0.0910 - acc: 0.9583\nEpoch 55/100\n24/24 [==============================] - 0s 8ms/step - loss: 0.0893 - acc: 0.9583\nEpoch 56/100\n24/24 [==============================] - ETA: 0s - loss: 0.0975 - acc: 0.944 - 0s 10ms/step - loss: 0.0877 - acc: 0.9583\nEpoch 57/100\n24/24 [==============================] - 0s 9ms/step - loss: 0.0861 - acc: 0.9583\nEpoch 58/100\n24/24 [==============================] - 0s 7ms/step - loss: 0.0846 - acc: 0.9583\nEpoch 59/100\n24/24 [==============================] - 0s 8ms/step - loss: 0.0831 - acc: 0.9583\nEpoch 60/100\n24/24 [==============================] - 0s 9ms/step - loss: 0.0816 - acc: 0.9583\nEpoch 61/100\n24/24 [==============================] - 0s 10ms/step - loss: 0.0803 - acc: 0.9583\nEpoch 62/100\n24/24 [==============================] - 0s 12ms/step - loss: 0.0789 - acc: 0.9583\nEpoch 63/100\n24/24 [==============================] - 0s 9ms/step - loss: 0.0776 - acc: 0.9583\nEpoch 64/100\n24/24 [==============================] - 0s 11ms/step - loss: 0.0764 - acc: 0.9583\nEpoch 65/100\n24/24 [==============================] - 0s 11ms/step - loss: 0.0752 - acc: 0.9167\nEpoch 66/100\n24/24 [==============================] - 0s 9ms/step - loss: 0.0740 - acc: 0.9167\nEpoch 67/100\n24/24 [==============================] - 0s 9ms/step - loss: 0.0729 - acc: 0.9167\nEpoch 68/100\n24/24 [==============================] - 0s 8ms/step - loss: 0.0718 - acc: 0.9167\nEpoch 69/100\n24/24 [==============================] - 0s 10ms/step - loss: 0.0707 - acc: 0.9167\nEpoch 70/100\n24/24 [==============================] - 0s 8ms/step - loss: 0.0697 - acc: 0.9167\nEpoch 71/100\n24/24 [==============================] - 0s 11ms/step - loss: 0.0687 - acc: 0.9167\nEpoch 72/100\n24/24 [==============================] - 0s 9ms/step - loss: 0.0678 - acc: 0.9167\nEpoch 73/100\n24/24 [==============================] - 0s 10ms/step - loss: 0.0668 - acc: 0.9167\nEpoch 74/100\n24/24 [==============================] - 0s 8ms/step - loss: 0.0659 - acc: 0.9167\nEpoch 75/100\n24/24 [==============================] - 0s 10ms/step - loss: 0.0650 - acc: 0.9167\nEpoch 76/100\n24/24 [==============================] - 0s 9ms/step - loss: 0.0642 - acc: 0.9167\nEpoch 77/100\n24/24 [==============================] - 0s 9ms/step - loss: 0.0633 - acc: 0.9167\nEpoch 78/100\n24/24 [==============================] - 0s 10ms/step - loss: 0.0625 - acc: 0.9167\nEpoch 79/100\n24/24 [==============================] - 0s 10ms/step - loss: 0.0617 - acc: 0.9167\nEpoch 80/100\n24/24 [==============================] - 0s 10ms/step - loss: 0.0610 - acc: 0.9167\nEpoch 81/100\n24/24 [==============================] - 0s 9ms/step - loss: 0.0602 - acc: 0.9167\nEpoch 82/100\n24/24 [==============================] - 0s 10ms/step - loss: 0.0595 - acc: 0.9167\nEpoch 83/100\n24/24 [==============================] - 0s 8ms/step - loss: 0.0587 - acc: 0.9167\nEpoch 84/100\n24/24 [==============================] - 0s 11ms/step - loss: 0.0580 - acc: 0.9167\nEpoch 85/100\n24/24 [==============================] - 0s 10ms/step - loss: 0.0573 - acc: 0.9583\nEpoch 86/100\n24/24 [==============================] - 0s 11ms/step - loss: 0.0567 - acc: 0.9167\nEpoch 87/100\n24/24 [==============================] - ETA: 0s - loss: 0.0585 - acc: 0.950 - 0s 8ms/step - loss: 0.0560 - acc: 0.9583\nEpoch 88/100\n24/24 [==============================] - 0s 11ms/step - loss: 0.0554 - acc: 0.9583\nEpoch 89/100\n24/24 [==============================] - 0s 9ms/step - loss: 0.0548 - acc: 0.9583\nEpoch 90/100\n24/24 [==============================] - 0s 9ms/step - loss: 0.0541 - acc: 0.9583\nEpoch 91/100\n24/24 [==============================] - 0s 11ms/step - loss: 0.0535 - acc: 0.9583\nEpoch 92/100\n24/24 [==============================] - 0s 11ms/step - loss: 0.0530 - acc: 0.9583\nEpoch 93/100\n24/24 [==============================] - 0s 10ms/step - loss: 0.0524 - acc: 0.9583\nEpoch 94/100\n24/24 [==============================] - 0s 9ms/step - loss: 0.0518 - acc: 0.9583\nEpoch 95/100\n24/24 [==============================] - 0s 8ms/step - loss: 0.0513 - acc: 0.9583\nEpoch 96/100\n24/24 [==============================] - 0s 9ms/step - loss: 0.0507 - acc: 0.9583\nEpoch 97/100\n24/24 [==============================] - 0s 9ms/step - loss: 0.0502 - acc: 0.9583\nEpoch 98/100\n24/24 [==============================] - 0s 9ms/step - loss: 0.0497 - acc: 0.9583\nEpoch 99/100\n24/24 [==============================] - 0s 9ms/step - loss: 0.0491 - acc: 0.9583\nEpoch 100/100\n24/24 [==============================] - ETA: 0s - loss: 0.0508 - acc: 0.956 - 0s 8ms/step - loss: 0.0487 - acc: 0.9583\n[[0.7247766 ]\n [0.99481094]\n [0.9671691 ]\n [0.22379602]\n [0.9773856 ]\n [0.2852548 ]\n [0.9310542 ]]\n",
          "name": "stdout"
        }
      ]
    },
    {
      "metadata": {
        "trusted": true
      },
      "cell_type": "code",
      "source": "y_test",
      "execution_count": 76,
      "outputs": [
        {
          "output_type": "execute_result",
          "execution_count": 76,
          "data": {
            "text/plain": "array([[1],\n       [1],\n       [1],\n       [0],\n       [1],\n       [0],\n       [1]])"
          },
          "metadata": {}
        }
      ]
    },
    {
      "metadata": {
        "trusted": true
      },
      "cell_type": "code",
      "source": "",
      "execution_count": null,
      "outputs": []
    }
  ],
  "metadata": {
    "kernelspec": {
      "name": "python36",
      "display_name": "Python 3.6",
      "language": "python"
    },
    "language_info": {
      "mimetype": "text/x-python",
      "nbconvert_exporter": "python",
      "name": "python",
      "pygments_lexer": "ipython3",
      "version": "3.6.6",
      "file_extension": ".py",
      "codemirror_mode": {
        "version": 3,
        "name": "ipython"
      }
    }
  },
  "nbformat": 4,
  "nbformat_minor": 2
}